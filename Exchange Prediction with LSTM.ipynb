{
 "cells": [
  {
   "cell_type": "markdown",
   "metadata": {},
   "source": [
    "## 摘要\n",
    "\n",
    "- 30分後の為替の変動を予測してみる\n",
    "\n",
    "### データセット\n",
    "\n",
    "- [GAIN Capital](http://ratedata.gaincapital.com/)\n",
    "- 通貨ペア: USD/JPY\n",
    "- 期間: 2018-03-04 〜 2018-04-19\n",
    "\n",
    "### 売買の方針\n",
    "\n",
    "- 30分後の為替の変動を予測し，何もしない, 買い， 売りを決定する．\n",
    "- 30秒単位で売り買いの判断を行う．\n",
    "- 0.3銭(0.0015%の手数料)を取られる\n",
    "- 3銭(0.015%)以上変動しそうなら売り買いする．\n",
    "- 自信がある場合のみ売り買いする．(そうでない場合は何もしない)\n",
    "\n",
    "| 行動        | 値 | 説明                                      |\n",
    "| ------------ | --- | ------------------------------------------- |\n",
    "| 買い        | 1  |  現在の買値(Ask) < 将来の売値(Bid) |\n",
    "| 空売り      | 2 |  現在の売値(Bid) > 将来の買値(Ask) |\n",
    "| 何もしない | 0  |  それ以外 |    "
   ]
  },
  {
   "cell_type": "code",
   "execution_count": 1,
   "metadata": {},
   "outputs": [
    {
     "name": "stderr",
     "output_type": "stream",
     "text": [
      "/usr/local/lib/python2.7/dist-packages/h5py/__init__.py:36: FutureWarning: Conversion of the second argument of issubdtype from `float` to `np.floating` is deprecated. In future, it will be treated as `np.float64 == np.dtype(float).type`.\n",
      "  from ._conv import register_converters as _register_converters\n",
      "Using TensorFlow backend.\n"
     ]
    }
   ],
   "source": [
    "import glob\n",
    "import pandas as pd\n",
    "import numpy as np\n",
    "import matplotlib.pyplot as plt\n",
    "%matplotlib inline\n",
    "import xgboost as xgb\n",
    "from sklearn.metrics import accuracy_score, recall_score, precision_score, f1_score\n",
    "from keras.models import Input, Model\n",
    "from keras.layers import Dense, Dropout\n",
    "from keras.layers import Embedding\n",
    "from keras.layers import LSTM\n",
    "from keras.callbacks import EarlyStopping, ReduceLROnPlateau, ModelCheckpoint, TensorBoard, CSVLogger\n",
    "from keras.utils import to_categorical\n",
    "\n",
    "import warnings\n",
    "warnings.filterwarnings('ignore')\n",
    "\n",
    "ACTION_DO_NOTHING = 0\n",
    "ACTION_LONG = 1 # 買い\n",
    "ACTION_SHORT = 2 # 空売り\n",
    "\n",
    "### LSTM Parameters\n",
    "SEQ_LENGTH = 10"
   ]
  },
  {
   "cell_type": "code",
   "execution_count": 2,
   "metadata": {},
   "outputs": [],
   "source": [
    "df = pd.concat([pd.read_csv(fpath, parse_dates=[\"RateDateTime\"]) for fpath in sorted(glob.glob(\"*.csv\"))])"
   ]
  },
  {
   "cell_type": "code",
   "execution_count": 3,
   "metadata": {},
   "outputs": [],
   "source": [
    "df = df.sort_values(by=\"RateDateTime\").reset_index(drop=True)"
   ]
  },
  {
   "cell_type": "code",
   "execution_count": 4,
   "metadata": {},
   "outputs": [
    {
     "data": {
      "text/html": [
       "<div>\n",
       "<style scoped>\n",
       "    .dataframe tbody tr th:only-of-type {\n",
       "        vertical-align: middle;\n",
       "    }\n",
       "\n",
       "    .dataframe tbody tr th {\n",
       "        vertical-align: top;\n",
       "    }\n",
       "\n",
       "    .dataframe thead th {\n",
       "        text-align: right;\n",
       "    }\n",
       "</style>\n",
       "<table border=\"1\" class=\"dataframe\">\n",
       "  <thead>\n",
       "    <tr style=\"text-align: right;\">\n",
       "      <th></th>\n",
       "      <th>lTid</th>\n",
       "      <th>cDealable</th>\n",
       "      <th>CurrencyPair</th>\n",
       "      <th>RateDateTime</th>\n",
       "      <th>RateBid</th>\n",
       "      <th>RateAsk</th>\n",
       "    </tr>\n",
       "  </thead>\n",
       "  <tbody>\n",
       "    <tr>\n",
       "      <th>0</th>\n",
       "      <td>6474889452</td>\n",
       "      <td>D</td>\n",
       "      <td>USD/JPY</td>\n",
       "      <td>2018-03-04 17:00:09.560</td>\n",
       "      <td>105.419</td>\n",
       "      <td>105.489</td>\n",
       "    </tr>\n",
       "    <tr>\n",
       "      <th>1</th>\n",
       "      <td>6474889479</td>\n",
       "      <td>D</td>\n",
       "      <td>USD/JPY</td>\n",
       "      <td>2018-03-04 17:00:17.810</td>\n",
       "      <td>105.462</td>\n",
       "      <td>105.532</td>\n",
       "    </tr>\n",
       "    <tr>\n",
       "      <th>2</th>\n",
       "      <td>6474889521</td>\n",
       "      <td>D</td>\n",
       "      <td>USD/JPY</td>\n",
       "      <td>2018-03-04 17:00:26.060</td>\n",
       "      <td>105.458</td>\n",
       "      <td>105.528</td>\n",
       "    </tr>\n",
       "    <tr>\n",
       "      <th>3</th>\n",
       "      <td>6474889554</td>\n",
       "      <td>D</td>\n",
       "      <td>USD/JPY</td>\n",
       "      <td>2018-03-04 17:00:35.310</td>\n",
       "      <td>105.476</td>\n",
       "      <td>105.546</td>\n",
       "    </tr>\n",
       "    <tr>\n",
       "      <th>4</th>\n",
       "      <td>6474889598</td>\n",
       "      <td>D</td>\n",
       "      <td>USD/JPY</td>\n",
       "      <td>2018-03-04 17:00:38.310</td>\n",
       "      <td>105.461</td>\n",
       "      <td>105.531</td>\n",
       "    </tr>\n",
       "  </tbody>\n",
       "</table>\n",
       "</div>"
      ],
      "text/plain": [
       "         lTid cDealable CurrencyPair            RateDateTime  RateBid  RateAsk\n",
       "0  6474889452         D      USD/JPY 2018-03-04 17:00:09.560  105.419  105.489\n",
       "1  6474889479         D      USD/JPY 2018-03-04 17:00:17.810  105.462  105.532\n",
       "2  6474889521         D      USD/JPY 2018-03-04 17:00:26.060  105.458  105.528\n",
       "3  6474889554         D      USD/JPY 2018-03-04 17:00:35.310  105.476  105.546\n",
       "4  6474889598         D      USD/JPY 2018-03-04 17:00:38.310  105.461  105.531"
      ]
     },
     "execution_count": 4,
     "metadata": {},
     "output_type": "execute_result"
    }
   ],
   "source": [
    "df.head()"
   ]
  },
  {
   "cell_type": "code",
   "execution_count": 5,
   "metadata": {},
   "outputs": [],
   "source": [
    "df = df.set_index(\"RateDateTime\", drop=True).resample(\"30S\").mean().reset_index()"
   ]
  },
  {
   "cell_type": "code",
   "execution_count": 6,
   "metadata": {},
   "outputs": [
    {
     "data": {
      "text/html": [
       "<div>\n",
       "<style scoped>\n",
       "    .dataframe tbody tr th:only-of-type {\n",
       "        vertical-align: middle;\n",
       "    }\n",
       "\n",
       "    .dataframe tbody tr th {\n",
       "        vertical-align: top;\n",
       "    }\n",
       "\n",
       "    .dataframe thead th {\n",
       "        text-align: right;\n",
       "    }\n",
       "</style>\n",
       "<table border=\"1\" class=\"dataframe\">\n",
       "  <thead>\n",
       "    <tr style=\"text-align: right;\">\n",
       "      <th></th>\n",
       "      <th>RateDateTime</th>\n",
       "      <th>lTid</th>\n",
       "      <th>RateBid</th>\n",
       "      <th>RateAsk</th>\n",
       "    </tr>\n",
       "  </thead>\n",
       "  <tbody>\n",
       "    <tr>\n",
       "      <th>0</th>\n",
       "      <td>2018-03-04 17:00:00</td>\n",
       "      <td>6.474889e+09</td>\n",
       "      <td>105.446333</td>\n",
       "      <td>105.516333</td>\n",
       "    </tr>\n",
       "    <tr>\n",
       "      <th>1</th>\n",
       "      <td>2018-03-04 17:00:30</td>\n",
       "      <td>6.474890e+09</td>\n",
       "      <td>105.470500</td>\n",
       "      <td>105.540500</td>\n",
       "    </tr>\n",
       "    <tr>\n",
       "      <th>2</th>\n",
       "      <td>2018-03-04 17:01:00</td>\n",
       "      <td>6.474890e+09</td>\n",
       "      <td>105.480000</td>\n",
       "      <td>105.550000</td>\n",
       "    </tr>\n",
       "    <tr>\n",
       "      <th>3</th>\n",
       "      <td>2018-03-04 17:01:30</td>\n",
       "      <td>6.474890e+09</td>\n",
       "      <td>105.482500</td>\n",
       "      <td>105.552500</td>\n",
       "    </tr>\n",
       "    <tr>\n",
       "      <th>4</th>\n",
       "      <td>2018-03-04 17:02:00</td>\n",
       "      <td>6.474890e+09</td>\n",
       "      <td>105.480667</td>\n",
       "      <td>105.550667</td>\n",
       "    </tr>\n",
       "  </tbody>\n",
       "</table>\n",
       "</div>"
      ],
      "text/plain": [
       "         RateDateTime          lTid     RateBid     RateAsk\n",
       "0 2018-03-04 17:00:00  6.474889e+09  105.446333  105.516333\n",
       "1 2018-03-04 17:00:30  6.474890e+09  105.470500  105.540500\n",
       "2 2018-03-04 17:01:00  6.474890e+09  105.480000  105.550000\n",
       "3 2018-03-04 17:01:30  6.474890e+09  105.482500  105.552500\n",
       "4 2018-03-04 17:02:00  6.474890e+09  105.480667  105.550667"
      ]
     },
     "execution_count": 6,
     "metadata": {},
     "output_type": "execute_result"
    }
   ],
   "source": [
    "df.head()"
   ]
  },
  {
   "cell_type": "code",
   "execution_count": 7,
   "metadata": {},
   "outputs": [
    {
     "data": {
      "text/html": [
       "<div>\n",
       "<style scoped>\n",
       "    .dataframe tbody tr th:only-of-type {\n",
       "        vertical-align: middle;\n",
       "    }\n",
       "\n",
       "    .dataframe tbody tr th {\n",
       "        vertical-align: top;\n",
       "    }\n",
       "\n",
       "    .dataframe thead th {\n",
       "        text-align: right;\n",
       "    }\n",
       "</style>\n",
       "<table border=\"1\" class=\"dataframe\">\n",
       "  <thead>\n",
       "    <tr style=\"text-align: right;\">\n",
       "      <th></th>\n",
       "      <th>lTid</th>\n",
       "      <th>RateBid</th>\n",
       "      <th>RateAsk</th>\n",
       "    </tr>\n",
       "  </thead>\n",
       "  <tbody>\n",
       "    <tr>\n",
       "      <th>count</th>\n",
       "      <td>9.877300e+04</td>\n",
       "      <td>98773.000000</td>\n",
       "      <td>98773.000000</td>\n",
       "    </tr>\n",
       "    <tr>\n",
       "      <th>mean</th>\n",
       "      <td>6.532411e+09</td>\n",
       "      <td>106.455745</td>\n",
       "      <td>106.461792</td>\n",
       "    </tr>\n",
       "    <tr>\n",
       "      <th>std</th>\n",
       "      <td>3.202130e+07</td>\n",
       "      <td>0.682563</td>\n",
       "      <td>0.682517</td>\n",
       "    </tr>\n",
       "    <tr>\n",
       "      <th>min</th>\n",
       "      <td>6.474889e+09</td>\n",
       "      <td>104.640000</td>\n",
       "      <td>104.657500</td>\n",
       "    </tr>\n",
       "    <tr>\n",
       "      <th>25%</th>\n",
       "      <td>6.504177e+09</td>\n",
       "      <td>106.007214</td>\n",
       "      <td>106.012886</td>\n",
       "    </tr>\n",
       "    <tr>\n",
       "      <th>50%</th>\n",
       "      <td>6.534282e+09</td>\n",
       "      <td>106.455700</td>\n",
       "      <td>106.462870</td>\n",
       "    </tr>\n",
       "    <tr>\n",
       "      <th>75%</th>\n",
       "      <td>6.560417e+09</td>\n",
       "      <td>107.035909</td>\n",
       "      <td>107.041280</td>\n",
       "    </tr>\n",
       "    <tr>\n",
       "      <th>max</th>\n",
       "      <td>6.585344e+09</td>\n",
       "      <td>107.849065</td>\n",
       "      <td>107.854043</td>\n",
       "    </tr>\n",
       "  </tbody>\n",
       "</table>\n",
       "</div>"
      ],
      "text/plain": [
       "               lTid       RateBid       RateAsk\n",
       "count  9.877300e+04  98773.000000  98773.000000\n",
       "mean   6.532411e+09    106.455745    106.461792\n",
       "std    3.202130e+07      0.682563      0.682517\n",
       "min    6.474889e+09    104.640000    104.657500\n",
       "25%    6.504177e+09    106.007214    106.012886\n",
       "50%    6.534282e+09    106.455700    106.462870\n",
       "75%    6.560417e+09    107.035909    107.041280\n",
       "max    6.585344e+09    107.849065    107.854043"
      ]
     },
     "execution_count": 7,
     "metadata": {},
     "output_type": "execute_result"
    }
   ],
   "source": [
    "df.describe()"
   ]
  },
  {
   "cell_type": "code",
   "execution_count": 8,
   "metadata": {},
   "outputs": [],
   "source": [
    "T = 60 # 30分後\n",
    "# T = 30 # 15分後\n",
    "margin = 0.03 # 3銭の変動\n",
    "df[\"TargetRateBid\"] = df[\"RateBid\"].shift(-T)\n",
    "df[\"TargetRateAsk\"] = df[\"RateAsk\"].shift(-T)\n",
    "df[\"TargetRateDateTime\"] = df[\"RateDateTime\"].shift(-T)\n",
    "df[\"Target\"] = ACTION_DO_NOTHING # 何もしない\n",
    "df.loc[(df[\"TargetRateBid\"] > df[\"RateAsk\"] + margin), \"Target\"] = ACTION_LONG # 買いのタイミング\n",
    "df.loc[(df[\"TargetRateAsk\"] + margin < df[\"RateBid\"]), \"Target\"] = ACTION_SHORT # 売りのタイミング"
   ]
  },
  {
   "cell_type": "code",
   "execution_count": 9,
   "metadata": {},
   "outputs": [
    {
     "data": {
      "text/html": [
       "<div>\n",
       "<style scoped>\n",
       "    .dataframe tbody tr th:only-of-type {\n",
       "        vertical-align: middle;\n",
       "    }\n",
       "\n",
       "    .dataframe tbody tr th {\n",
       "        vertical-align: top;\n",
       "    }\n",
       "\n",
       "    .dataframe thead th {\n",
       "        text-align: right;\n",
       "    }\n",
       "</style>\n",
       "<table border=\"1\" class=\"dataframe\">\n",
       "  <thead>\n",
       "    <tr style=\"text-align: right;\">\n",
       "      <th></th>\n",
       "      <th>RateDateTime</th>\n",
       "      <th>lTid</th>\n",
       "      <th>RateBid</th>\n",
       "      <th>RateAsk</th>\n",
       "      <th>TargetRateBid</th>\n",
       "      <th>TargetRateAsk</th>\n",
       "      <th>TargetRateDateTime</th>\n",
       "      <th>Target</th>\n",
       "    </tr>\n",
       "  </thead>\n",
       "  <tbody>\n",
       "    <tr>\n",
       "      <th>0</th>\n",
       "      <td>2018-03-04 17:00:00</td>\n",
       "      <td>6.474889e+09</td>\n",
       "      <td>105.446333</td>\n",
       "      <td>105.516333</td>\n",
       "      <td>105.556923</td>\n",
       "      <td>105.605846</td>\n",
       "      <td>2018-03-04 17:30:00</td>\n",
       "      <td>1</td>\n",
       "    </tr>\n",
       "    <tr>\n",
       "      <th>1</th>\n",
       "      <td>2018-03-04 17:00:30</td>\n",
       "      <td>6.474890e+09</td>\n",
       "      <td>105.470500</td>\n",
       "      <td>105.540500</td>\n",
       "      <td>105.556864</td>\n",
       "      <td>105.602682</td>\n",
       "      <td>2018-03-04 17:30:30</td>\n",
       "      <td>0</td>\n",
       "    </tr>\n",
       "    <tr>\n",
       "      <th>2</th>\n",
       "      <td>2018-03-04 17:01:00</td>\n",
       "      <td>6.474890e+09</td>\n",
       "      <td>105.480000</td>\n",
       "      <td>105.550000</td>\n",
       "      <td>105.574750</td>\n",
       "      <td>105.609650</td>\n",
       "      <td>2018-03-04 17:31:00</td>\n",
       "      <td>0</td>\n",
       "    </tr>\n",
       "    <tr>\n",
       "      <th>3</th>\n",
       "      <td>2018-03-04 17:01:30</td>\n",
       "      <td>6.474890e+09</td>\n",
       "      <td>105.482500</td>\n",
       "      <td>105.552500</td>\n",
       "      <td>105.564622</td>\n",
       "      <td>105.605333</td>\n",
       "      <td>2018-03-04 17:31:30</td>\n",
       "      <td>0</td>\n",
       "    </tr>\n",
       "    <tr>\n",
       "      <th>4</th>\n",
       "      <td>2018-03-04 17:02:00</td>\n",
       "      <td>6.474890e+09</td>\n",
       "      <td>105.480667</td>\n",
       "      <td>105.550667</td>\n",
       "      <td>105.561203</td>\n",
       "      <td>105.604331</td>\n",
       "      <td>2018-03-04 17:32:00</td>\n",
       "      <td>0</td>\n",
       "    </tr>\n",
       "  </tbody>\n",
       "</table>\n",
       "</div>"
      ],
      "text/plain": [
       "         RateDateTime          lTid     RateBid     RateAsk  TargetRateBid  \\\n",
       "0 2018-03-04 17:00:00  6.474889e+09  105.446333  105.516333     105.556923   \n",
       "1 2018-03-04 17:00:30  6.474890e+09  105.470500  105.540500     105.556864   \n",
       "2 2018-03-04 17:01:00  6.474890e+09  105.480000  105.550000     105.574750   \n",
       "3 2018-03-04 17:01:30  6.474890e+09  105.482500  105.552500     105.564622   \n",
       "4 2018-03-04 17:02:00  6.474890e+09  105.480667  105.550667     105.561203   \n",
       "\n",
       "   TargetRateAsk  TargetRateDateTime  Target  \n",
       "0     105.605846 2018-03-04 17:30:00       1  \n",
       "1     105.602682 2018-03-04 17:30:30       0  \n",
       "2     105.609650 2018-03-04 17:31:00       0  \n",
       "3     105.605333 2018-03-04 17:31:30       0  \n",
       "4     105.604331 2018-03-04 17:32:00       0  "
      ]
     },
     "execution_count": 9,
     "metadata": {},
     "output_type": "execute_result"
    }
   ],
   "source": [
    "df.head()"
   ]
  },
  {
   "cell_type": "code",
   "execution_count": 10,
   "metadata": {},
   "outputs": [],
   "source": [
    "df[\"Dow\"] = df[\"RateDateTime\"].dt.dayofweek\n",
    "df[\"Month\"] = df[\"RateDateTime\"].dt.month\n",
    "df[\"Day\"] = df[\"RateDateTime\"].dt.day\n",
    "df[\"Hour\"] = df[\"RateDateTime\"].dt.hour\n",
    "df[\"Minute\"] = df[\"RateDateTime\"].dt.minute\n",
    "df[\"RateAsk-RateBid\"] = df[\"RateAsk\"] - df[\"RateBid\"]\n",
    "# 直近との差\n",
    "df[\"RateBidDiff_30m\"] = df[\"RateBid\"] - df[\"RateBid\"].shift(T)\n",
    "df[\"RateBidDiff_10m\"] = df[\"RateBid\"] - df[\"RateBid\"].shift(T/3)\n",
    "# 移動平均\n",
    "df[\"RateBidAvg_30m\"] = df[\"RateBid\"].rolling(window=T).mean()\n",
    "df[\"RateBidAvg_10m\"] = df[\"RateBid\"].rolling(window=T/3).mean()\n",
    "df[\"RateBidAvg_30m/RateBid\"] = df[\"RateBidAvg_30m\"] / df[\"RateBid\"]\n",
    "df[\"RateBidAvg_10m/RateBid\"] = df[\"RateBidAvg_10m\"] / df[\"RateBid\"]\n",
    "# 分散\n",
    "df[\"RateBidStd_30m\"] = df[\"RateBid\"].rolling(window=T).std()\n",
    "df[\"RateBidStd_10m\"] = df[\"RateBid\"].rolling(window=T/3).std()\n",
    "# ポリジャーバンド\n",
    "df[\"RateBidUpper_10m\"] = df[\"RateBidAvg_10m\"] + 2.0 * df[\"RateBidStd_10m\"]\n",
    "df[\"RateBidLower_10m\"] = df[\"RateBidAvg_10m\"] - 2.0 * df[\"RateBidStd_10m\"]\n",
    "df[\"RateBidUpper_10m/RateBid\"] = df[\"RateBidUpper_10m\"] / df[\"RateBid\"]\n",
    "df[\"RateBidLower_10m/RateBid\"] = df[\"RateBidLower_10m\"] / df[\"RateBid\"]\n",
    "# t値\n",
    "df[\"RateBid_t_30m\"] = (df[\"RateBid\"] - df[\"RateBidAvg_30m\"]) / df[\"RateBidStd_30m\"]\n",
    "df[\"RateBid_t_10m\"] = (df[\"RateBid\"] - df[\"RateBidAvg_10m\"]) / df[\"RateBidStd_10m\"]\n",
    "\n",
    "# フィボナッチすごい, cf. https://www.kaggle.com/safavieh/median-estimation-by-fibonacci-et-al-lb-44-9\n",
    "nums = [2, 3, 5, 8, 13, 21, 34, 55]\n",
    "cols = []\n",
    "for num in nums:\n",
    "    interval = num\n",
    "    col = \"RateBidMedian_%05d\" % interval\n",
    "    cols.append(col)\n",
    "    df[col] = df[\"RateBid\"].rolling(window=interval).median()\n",
    "df[\"RateBidMedian\"] = df[cols].median(axis=1)\n",
    "df[\"RateBidMedian/RateBid\"] = df[\"RateBidMedian\"] / df[\"RateBid\"] "
   ]
  },
  {
   "cell_type": "code",
   "execution_count": 11,
   "metadata": {},
   "outputs": [],
   "source": [
    "df.dropna(inplace=True)"
   ]
  },
  {
   "cell_type": "code",
   "execution_count": 12,
   "metadata": {},
   "outputs": [
    {
     "data": {
      "text/html": [
       "<div>\n",
       "<style scoped>\n",
       "    .dataframe tbody tr th:only-of-type {\n",
       "        vertical-align: middle;\n",
       "    }\n",
       "\n",
       "    .dataframe tbody tr th {\n",
       "        vertical-align: top;\n",
       "    }\n",
       "\n",
       "    .dataframe thead th {\n",
       "        text-align: right;\n",
       "    }\n",
       "</style>\n",
       "<table border=\"1\" class=\"dataframe\">\n",
       "  <thead>\n",
       "    <tr style=\"text-align: right;\">\n",
       "      <th></th>\n",
       "      <th>RateDateTime</th>\n",
       "      <th>lTid</th>\n",
       "      <th>RateBid</th>\n",
       "      <th>RateAsk</th>\n",
       "      <th>TargetRateBid</th>\n",
       "      <th>TargetRateAsk</th>\n",
       "      <th>TargetRateDateTime</th>\n",
       "      <th>Target</th>\n",
       "      <th>Dow</th>\n",
       "      <th>Month</th>\n",
       "      <th>...</th>\n",
       "      <th>RateBidMedian_00002</th>\n",
       "      <th>RateBidMedian_00003</th>\n",
       "      <th>RateBidMedian_00005</th>\n",
       "      <th>RateBidMedian_00008</th>\n",
       "      <th>RateBidMedian_00013</th>\n",
       "      <th>RateBidMedian_00021</th>\n",
       "      <th>RateBidMedian_00034</th>\n",
       "      <th>RateBidMedian_00055</th>\n",
       "      <th>RateBidMedian</th>\n",
       "      <th>RateBidMedian/RateBid</th>\n",
       "    </tr>\n",
       "  </thead>\n",
       "  <tbody>\n",
       "    <tr>\n",
       "      <th>60</th>\n",
       "      <td>2018-03-04 17:30:00</td>\n",
       "      <td>6.474910e+09</td>\n",
       "      <td>105.556923</td>\n",
       "      <td>105.605846</td>\n",
       "      <td>105.625458</td>\n",
       "      <td>105.644208</td>\n",
       "      <td>2018-03-04 18:00:00</td>\n",
       "      <td>0</td>\n",
       "      <td>6</td>\n",
       "      <td>3</td>\n",
       "      <td>...</td>\n",
       "      <td>105.560087</td>\n",
       "      <td>105.563250</td>\n",
       "      <td>105.578857</td>\n",
       "      <td>105.577704</td>\n",
       "      <td>105.579750</td>\n",
       "      <td>105.57655</td>\n",
       "      <td>105.578218</td>\n",
       "      <td>105.572217</td>\n",
       "      <td>105.577127</td>\n",
       "      <td>1.000191</td>\n",
       "    </tr>\n",
       "    <tr>\n",
       "      <th>61</th>\n",
       "      <td>2018-03-04 17:30:30</td>\n",
       "      <td>6.474911e+09</td>\n",
       "      <td>105.556864</td>\n",
       "      <td>105.602682</td>\n",
       "      <td>105.627177</td>\n",
       "      <td>105.639097</td>\n",
       "      <td>2018-03-04 18:00:30</td>\n",
       "      <td>0</td>\n",
       "      <td>6</td>\n",
       "      <td>3</td>\n",
       "      <td>...</td>\n",
       "      <td>105.556893</td>\n",
       "      <td>105.556923</td>\n",
       "      <td>105.563250</td>\n",
       "      <td>105.577704</td>\n",
       "      <td>105.579750</td>\n",
       "      <td>105.57600</td>\n",
       "      <td>105.577064</td>\n",
       "      <td>105.572217</td>\n",
       "      <td>105.574109</td>\n",
       "      <td>1.000163</td>\n",
       "    </tr>\n",
       "    <tr>\n",
       "      <th>62</th>\n",
       "      <td>2018-03-04 17:31:00</td>\n",
       "      <td>6.474911e+09</td>\n",
       "      <td>105.574750</td>\n",
       "      <td>105.609650</td>\n",
       "      <td>105.611046</td>\n",
       "      <td>105.621966</td>\n",
       "      <td>2018-03-04 18:01:00</td>\n",
       "      <td>0</td>\n",
       "      <td>6</td>\n",
       "      <td>3</td>\n",
       "      <td>...</td>\n",
       "      <td>105.565807</td>\n",
       "      <td>105.556923</td>\n",
       "      <td>105.563250</td>\n",
       "      <td>105.575650</td>\n",
       "      <td>105.578857</td>\n",
       "      <td>105.57600</td>\n",
       "      <td>105.577064</td>\n",
       "      <td>105.574750</td>\n",
       "      <td>105.575200</td>\n",
       "      <td>1.000004</td>\n",
       "    </tr>\n",
       "    <tr>\n",
       "      <th>63</th>\n",
       "      <td>2018-03-04 17:31:30</td>\n",
       "      <td>6.474912e+09</td>\n",
       "      <td>105.564622</td>\n",
       "      <td>105.605333</td>\n",
       "      <td>105.613574</td>\n",
       "      <td>105.620553</td>\n",
       "      <td>2018-03-04 18:01:30</td>\n",
       "      <td>0</td>\n",
       "      <td>6</td>\n",
       "      <td>3</td>\n",
       "      <td>...</td>\n",
       "      <td>105.569686</td>\n",
       "      <td>105.564622</td>\n",
       "      <td>105.563250</td>\n",
       "      <td>105.569686</td>\n",
       "      <td>105.576550</td>\n",
       "      <td>105.57600</td>\n",
       "      <td>105.576275</td>\n",
       "      <td>105.574750</td>\n",
       "      <td>105.572218</td>\n",
       "      <td>1.000072</td>\n",
       "    </tr>\n",
       "    <tr>\n",
       "      <th>64</th>\n",
       "      <td>2018-03-04 17:32:00</td>\n",
       "      <td>6.474912e+09</td>\n",
       "      <td>105.561203</td>\n",
       "      <td>105.604331</td>\n",
       "      <td>105.641737</td>\n",
       "      <td>105.652526</td>\n",
       "      <td>2018-03-04 18:02:00</td>\n",
       "      <td>1</td>\n",
       "      <td>6</td>\n",
       "      <td>3</td>\n",
       "      <td>...</td>\n",
       "      <td>105.562913</td>\n",
       "      <td>105.564622</td>\n",
       "      <td>105.561203</td>\n",
       "      <td>105.563936</td>\n",
       "      <td>105.576000</td>\n",
       "      <td>105.57600</td>\n",
       "      <td>105.575375</td>\n",
       "      <td>105.574750</td>\n",
       "      <td>105.569686</td>\n",
       "      <td>1.000080</td>\n",
       "    </tr>\n",
       "  </tbody>\n",
       "</table>\n",
       "<p>5 rows × 38 columns</p>\n",
       "</div>"
      ],
      "text/plain": [
       "          RateDateTime          lTid     RateBid     RateAsk  TargetRateBid  \\\n",
       "60 2018-03-04 17:30:00  6.474910e+09  105.556923  105.605846     105.625458   \n",
       "61 2018-03-04 17:30:30  6.474911e+09  105.556864  105.602682     105.627177   \n",
       "62 2018-03-04 17:31:00  6.474911e+09  105.574750  105.609650     105.611046   \n",
       "63 2018-03-04 17:31:30  6.474912e+09  105.564622  105.605333     105.613574   \n",
       "64 2018-03-04 17:32:00  6.474912e+09  105.561203  105.604331     105.641737   \n",
       "\n",
       "    TargetRateAsk  TargetRateDateTime  Target  Dow  Month  \\\n",
       "60     105.644208 2018-03-04 18:00:00       0    6      3   \n",
       "61     105.639097 2018-03-04 18:00:30       0    6      3   \n",
       "62     105.621966 2018-03-04 18:01:00       0    6      3   \n",
       "63     105.620553 2018-03-04 18:01:30       0    6      3   \n",
       "64     105.652526 2018-03-04 18:02:00       1    6      3   \n",
       "\n",
       "            ...            RateBidMedian_00002  RateBidMedian_00003  \\\n",
       "60          ...                     105.560087           105.563250   \n",
       "61          ...                     105.556893           105.556923   \n",
       "62          ...                     105.565807           105.556923   \n",
       "63          ...                     105.569686           105.564622   \n",
       "64          ...                     105.562913           105.564622   \n",
       "\n",
       "    RateBidMedian_00005  RateBidMedian_00008  RateBidMedian_00013  \\\n",
       "60           105.578857           105.577704           105.579750   \n",
       "61           105.563250           105.577704           105.579750   \n",
       "62           105.563250           105.575650           105.578857   \n",
       "63           105.563250           105.569686           105.576550   \n",
       "64           105.561203           105.563936           105.576000   \n",
       "\n",
       "    RateBidMedian_00021  RateBidMedian_00034  RateBidMedian_00055  \\\n",
       "60            105.57655           105.578218           105.572217   \n",
       "61            105.57600           105.577064           105.572217   \n",
       "62            105.57600           105.577064           105.574750   \n",
       "63            105.57600           105.576275           105.574750   \n",
       "64            105.57600           105.575375           105.574750   \n",
       "\n",
       "    RateBidMedian  RateBidMedian/RateBid  \n",
       "60     105.577127               1.000191  \n",
       "61     105.574109               1.000163  \n",
       "62     105.575200               1.000004  \n",
       "63     105.572218               1.000072  \n",
       "64     105.569686               1.000080  \n",
       "\n",
       "[5 rows x 38 columns]"
      ]
     },
     "execution_count": 12,
     "metadata": {},
     "output_type": "execute_result"
    }
   ],
   "source": [
    "df.head()"
   ]
  },
  {
   "cell_type": "code",
   "execution_count": 13,
   "metadata": {},
   "outputs": [
    {
     "data": {
      "image/png": "[encoded data removed]",
      "text/plain": [
       "<Figure size 432x288 with 1 Axes>"
      ]
     },
     "metadata": {},
     "output_type": "display_data"
    }
   ],
   "source": [
    "df[-100:].set_index(\"RateDateTime\")[[\"RateBidAvg_10m/RateBid\", \"RateBidAvg_30m/RateBid\"]].plot();"
   ]
  },
  {
   "cell_type": "code",
   "execution_count": 14,
   "metadata": {},
   "outputs": [
    {
     "data": {
      "image/png": "[encoded data removed]",
      "text/plain": [
       "<Figure size 432x288 with 1 Axes>"
      ]
     },
     "metadata": {},
     "output_type": "display_data"
    }
   ],
   "source": [
    "df.set_index(\"RateDateTime\")[[\"RateBid\", \"RateAsk\", \"RateBidMedian\"]].plot();"
   ]
  },
  {
   "cell_type": "code",
   "execution_count": 15,
   "metadata": {},
   "outputs": [
    {
     "data": {
      "image/png": "[encoded data removed]",
      "text/plain": [
       "<Figure size 432x288 with 1 Axes>"
      ]
     },
     "metadata": {},
     "output_type": "display_data"
    }
   ],
   "source": [
    "df[-100:].set_index(\"RateDateTime\")[[\"RateBid\", \"RateAsk\", \"RateBidMedian\", \"RateBidLower_10m\", \"RateBidUpper_10m\"]].plot();"
   ]
  },
  {
   "cell_type": "code",
   "execution_count": 16,
   "metadata": {},
   "outputs": [],
   "source": [
    "use_columns = [\n",
    "    \"RateAsk-RateBid\", \n",
    "    \"Dow\", \n",
    "    # \"Month\",\n",
    "    # \"Day\", \n",
    "    \"Hour\", \n",
    "    # \"Minute\", \n",
    "    \"RateBidDiff_30m\", \"RateBidDiff_10m\", \n",
    "    \"RateBidAvg_30m/RateBid\", \"RateBidAvg_10m/RateBid\",\n",
    "    \"RateBidStd_30m\", \"RateBidStd_10m\",\n",
    "    \"RateBidUpper_10m/RateBid\", \"RateBidLower_10m/RateBid\",\n",
    "    \"RateBid_t_30m\", \"RateBid_t_10m\",\n",
    "    \"RateBidMedian/RateBid\"\n",
    "]"
   ]
  },
  {
   "cell_type": "code",
   "execution_count": 17,
   "metadata": {},
   "outputs": [],
   "source": [
    "def transform(df, seq_length):\n",
    "    num_train = int(len(df) * 0.8)\n",
    "    x_all = df[use_columns].values\n",
    "    y_all = df[\"Target\"].values\n",
    "    X_train = []\n",
    "    X_test = []\n",
    "    y_train = []\n",
    "    y_test = []\n",
    "    m = seq_length\n",
    "    n = len(use_columns)\n",
    "    for i in range(m, len(df)):\n",
    "        if i < num_train:\n",
    "            X_train.append(x_all[-m+i:i].copy())\n",
    "            y_train.append(y_all[i].copy())\n",
    "        else:\n",
    "            X_test.append(x_all[-m+i:i].copy())\n",
    "            y_test.append(y_all[i].copy())\n",
    "    X_train = np.asarray(X_train)\n",
    "    y_train = np.asarray(y_train)\n",
    "    X_test = np.asarray(X_test)\n",
    "    y_test = np.asarray(y_test)\n",
    "    return (X_train,  y_train), (X_test, y_test)"
   ]
  },
  {
   "cell_type": "code",
   "execution_count": 18,
   "metadata": {},
   "outputs": [],
   "source": [
    "def build(seq_length, max_features):\n",
    "    input_tensor = Input(shape=(seq_length, max_features))\n",
    "    x = LSTM(128)(input_tensor)\n",
    "    x = Dropout(0.5)(x)\n",
    "    prediction = Dense(3, activation=\"softmax\")(x)\n",
    "    model = Model(input_tensor, prediction)\n",
    "    return model"
   ]
  },
  {
   "cell_type": "code",
   "execution_count": 19,
   "metadata": {},
   "outputs": [],
   "source": [
    "# 特徴抽出\n",
    "(X_train, y_train), (X_test, y_test) = transform(df, seq_length=SEQ_LENGTH)\n",
    "Y_train = to_categorical(y_train)\n",
    "Y_test = to_categorical(y_test)"
   ]
  },
  {
   "cell_type": "code",
   "execution_count": 20,
   "metadata": {},
   "outputs": [
    {
     "name": "stdout",
     "output_type": "stream",
     "text": [
      "_________________________________________________________________\n",
      "Layer (type)                 Output Shape              Param #   \n",
      "=================================================================\n",
      "input_1 (InputLayer)         (None, 10, 14)            0         \n",
      "_________________________________________________________________\n",
      "lstm_1 (LSTM)                (None, 128)               73216     \n",
      "_________________________________________________________________\n",
      "dropout_1 (Dropout)          (None, 128)               0         \n",
      "_________________________________________________________________\n",
      "dense_1 (Dense)              (None, 3)                 387       \n",
      "=================================================================\n",
      "Total params: 73,603\n",
      "Trainable params: 73,603\n",
      "Non-trainable params: 0\n",
      "_________________________________________________________________\n",
      "None\n"
     ]
    }
   ],
   "source": [
    "# モデル構築\n",
    "model = build(seq_length=SEQ_LENGTH, max_features=len(use_columns))\n",
    "model.compile(\n",
    "        loss='categorical_crossentropy',\n",
    "        optimizer='nadam',\n",
    "        metrics=['accuracy']\n",
    ")\n",
    "print model.summary()"
   ]
  },
  {
   "cell_type": "code",
   "execution_count": 21,
   "metadata": {
    "scrolled": false
   },
   "outputs": [
    {
     "name": "stdout",
     "output_type": "stream",
     "text": [
      "Train on 45577 samples, validate on 11394 samples\n",
      "Epoch 1/200\n",
      "45577/45577 [==============================] - 2s 42us/step - loss: 1.1160 - acc: 0.3701 - val_loss: 1.0926 - val_acc: 0.3546\n",
      "Epoch 2/200\n",
      "45577/45577 [==============================] - 0s 11us/step - loss: 1.0878 - acc: 0.3859 - val_loss: 1.0863 - val_acc: 0.4173\n",
      "Epoch 3/200\n",
      "45577/45577 [==============================] - 0s 10us/step - loss: 1.0817 - acc: 0.3962 - val_loss: 1.0867 - val_acc: 0.3900\n",
      "Epoch 4/200\n",
      "45577/45577 [==============================] - 0s 10us/step - loss: 1.0773 - acc: 0.4025 - val_loss: 1.0822 - val_acc: 0.4200\n",
      "Epoch 5/200\n",
      "45577/45577 [==============================] - 0s 10us/step - loss: 1.0730 - acc: 0.4046 - val_loss: 1.0786 - val_acc: 0.4153\n",
      "Epoch 6/200\n",
      "45577/45577 [==============================] - 0s 10us/step - loss: 1.0646 - acc: 0.4117 - val_loss: 1.1033 - val_acc: 0.3916\n",
      "Epoch 7/200\n",
      "45577/45577 [==============================] - 0s 10us/step - loss: 1.0566 - acc: 0.4214 - val_loss: 1.1138 - val_acc: 0.3649\n",
      "Epoch 8/200\n",
      "45577/45577 [==============================] - 0s 10us/step - loss: 1.0504 - acc: 0.4284 - val_loss: 1.1345 - val_acc: 0.3357\n",
      "Epoch 9/200\n",
      "45577/45577 [==============================] - 0s 11us/step - loss: 1.0420 - acc: 0.4422 - val_loss: 1.1130 - val_acc: 0.3935\n",
      "\n",
      "Epoch 00009: ReduceLROnPlateau reducing learning rate to 0.000600000028498.\n",
      "Epoch 10/200\n",
      "45577/45577 [==============================] - 1s 11us/step - loss: 1.0266 - acc: 0.4568 - val_loss: 1.1193 - val_acc: 0.3763\n",
      "Epoch 00010: early stopping\n"
     ]
    }
   ],
   "source": [
    "# 学習\n",
    "callbacks = [\n",
    "    EarlyStopping(monitor='val_loss', patience=5, verbose=True, min_delta=1e-4),\n",
    "    ReduceLROnPlateau(monitor='val_loss', factor=0.3, patience=3, verbose=True, epsilon=1e-4),\n",
    "]\n",
    "num_valid = int(len(X_train) * 0.2)\n",
    "history = model.fit(X_train[:-num_valid], Y_train[:-num_valid], \n",
    "          validation_data=(X_train[-num_valid:], Y_train[-num_valid:]),\n",
    "          callbacks=callbacks,\n",
    "          batch_size=1024, \n",
    "          epochs=200)"
   ]
  },
  {
   "cell_type": "code",
   "execution_count": 22,
   "metadata": {},
   "outputs": [
    {
     "data": {
      "image/png": "[encoded data removed]",
      "text/plain": [
       "<Figure size 864x288 with 3 Axes>"
      ]
     },
     "metadata": {},
     "output_type": "display_data"
    }
   ],
   "source": [
    "history_df = pd.DataFrame(history.history)\n",
    "fig, axes = plt.subplots(nrows=1, ncols=3, figsize=(12, 4))\n",
    "history_df[[\"acc\", \"val_acc\"]].plot(ax=axes[0])\n",
    "history_df[[\"loss\", \"val_loss\"]].plot(ax=axes[1])\n",
    "history_df[[\"lr\"]].plot(ax=axes[2])\n",
    "fig.tight_layout()"
   ]
  },
  {
   "cell_type": "markdown",
   "metadata": {},
   "source": [
    "- 全然val_lossが減ってないし，学習できていなさそう．\n",
    "- データ数を増やせばなんとかなる？"
   ]
  },
  {
   "cell_type": "code",
   "execution_count": 23,
   "metadata": {},
   "outputs": [],
   "source": [
    "Y_pred = model.predict(X_test)\n",
    "y_pred = np.argmax(Y_pred, axis=1)"
   ]
  },
  {
   "cell_type": "code",
   "execution_count": 24,
   "metadata": {},
   "outputs": [],
   "source": [
    "num_train = int(len(df) * 0.8)\n",
    "train_df = df[:num_train]\n",
    "test_df = df[num_train:]"
   ]
  },
  {
   "cell_type": "code",
   "execution_count": 25,
   "metadata": {},
   "outputs": [
    {
     "name": "stdout",
     "output_type": "stream",
     "text": [
      "(56971, 10, 14) (56971,) (14246, 10, 14) (14246,)\n"
     ]
    }
   ],
   "source": [
    "print X_train.shape, y_train.shape, X_test.shape, y_test.shape"
   ]
  },
  {
   "cell_type": "code",
   "execution_count": 26,
   "metadata": {},
   "outputs": [
    {
     "name": "stdout",
     "output_type": "stream",
     "text": [
      "Accuracy: 0.3593\n",
      "Recall:       0.3231\n",
      "Precision:  0.3256\n",
      "F1:             0.3112\n"
     ]
    }
   ],
   "source": [
    "print \"Accuracy: %.4f\" % accuracy_score(y_test, y_pred)\n",
    "print \"Recall:       %.4f\" % recall_score(y_test, y_pred, average=\"macro\")\n",
    "print \"Precision:  %.4f\" % precision_score(y_test, y_pred, average=\"macro\")\n",
    "print \"F1:             %.4f\" % f1_score(y_test, y_pred, average=\"macro\")"
   ]
  },
  {
   "cell_type": "markdown",
   "metadata": {},
   "source": [
    "## 収益計算"
   ]
  },
  {
   "cell_type": "code",
   "execution_count": 27,
   "metadata": {},
   "outputs": [],
   "source": [
    "def calc_gain(x, charge=0.003):\n",
    "    if x[\"pred\"] == ACTION_DO_NOTHING:\n",
    "        return 0\n",
    "    if x[\"pred\"] == ACTION_LONG: # 買って売る\n",
    "        return x[\"TargetRateBid\"] - x[\"RateAsk\"] - 2*charge\n",
    "    if x[\"pred\"] == ACTION_SHORT: # 売って買う\n",
    "        return x[\"RateBid\"] - x[\"TargetRateAsk\"] - 2*charge\n",
    "test_df[\"pred\"] = y_pred\n",
    "test_df[\"gain\"] = test_df.apply(calc_gain, axis=1)"
   ]
  },
  {
   "cell_type": "code",
   "execution_count": 28,
   "metadata": {},
   "outputs": [
    {
     "name": "stdout",
     "output_type": "stream",
     "text": [
      "収益の期待値(1ドルあたり): -0.0092円\n",
      "収益の合算値: -130.4137円\n",
      "買った回数: 5628\n",
      "売った回数: 2837\n",
      "何もしなかった回数: 5781\n"
     ]
    }
   ],
   "source": [
    "print \"収益の期待値(1ドルあたり): %.4f円\" % test_df[\"gain\"].mean()\n",
    "print \"収益の合算値: %.4f円\" % test_df[\"gain\"].sum()\n",
    "print \"買った回数: %d\" % (test_df[\"pred\"] == ACTION_LONG).sum()\n",
    "print \"売った回数: %d\" % (test_df[\"pred\"] == ACTION_SHORT).sum()\n",
    "print \"何もしなかった回数: %d\" % (test_df[\"pred\"] == ACTION_DO_NOTHING).sum()"
   ]
  },
  {
   "cell_type": "markdown",
   "metadata": {},
   "source": [
    "## まとめ\n",
    "\n",
    "- LSTMで為替を予測\n",
    "- XGBoost版より性能悪化．\n",
    "- 特徴抽出やデータ数など，改善箇所はまだまだある．"
   ]
  },
  {
   "cell_type": "markdown",
   "metadata": {},
   "source": [
    "## References\n",
    "\n",
    "> [1]. [Recruit Restaurant Visitor Forecasting](https://www.kaggle.com/c/recruit-restaurant-visitor-forecasting), kaggle, 2017.\n",
    "\n",
    "> [2]. [GAIN Capital](http://ratedata.gaincapital.com/)"
   ]
  }
 ],
 "metadata": {
  "kernelspec": {
   "display_name": "Python 2",
   "language": "python",
   "name": "python2"
  },
  "language_info": {
   "codemirror_mode": {
    "name": "ipython",
    "version": 2
   },
   "file_extension": ".py",
   "mimetype": "text/x-python",
   "name": "python",
   "nbconvert_exporter": "python",
   "pygments_lexer": "ipython2",
   "version": "2.7.14"
  }
 },
 "nbformat": 4,
 "nbformat_minor": 2
}
