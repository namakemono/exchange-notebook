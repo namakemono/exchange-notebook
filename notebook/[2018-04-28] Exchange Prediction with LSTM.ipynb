{
 "cells": [
  {
   "cell_type": "markdown",
   "metadata": {},
   "source": [
    "## 摘要\n",
    "\n",
    "- 30分後の為替の変動を予測してみる\n",
    "\n",
    "### データセット\n",
    "\n",
    "- [GAIN Capital](http://ratedata.gaincapital.com/)\n",
    "- 通貨ペア: USD/JPY\n",
    "- 期間: 2018-03-04 〜 2018-04-19\n",
    "\n",
    "### 売買の方針\n",
    "\n",
    "- 30分後の為替の変動を予測し，何もしない, 買い， 売りを決定する．\n",
    "- 30秒単位で売り買いの判断を行う．\n",
    "- 0.3銭(0.0015%の手数料)を取られる\n",
    "- 3銭(0.015%)以上変動しそうなら売り買いする．\n",
    "- 自信がある場合のみ売り買いする．(そうでない場合は何もしない)\n",
    "\n",
    "| 行動        | 値 | 説明                                      |\n",
    "| ------------ | --- | ------------------------------------------- |\n",
    "| 買い        | 1  |  現在の買値(Ask) < 将来の売値(Bid) |\n",
    "| 空売り      | 2 |  現在の売値(Bid) > 将来の買値(Ask) |\n",
    "| 何もしない | 0  |  それ以外 |    "
   ]
  },
  {
   "cell_type": "code",
   "execution_count": 1,
   "metadata": {},
   "outputs": [
    {
     "name": "stderr",
     "output_type": "stream",
     "text": [
      "/usr/local/lib/python2.7/dist-packages/h5py/__init__.py:36: FutureWarning: Conversion of the second argument of issubdtype from `float` to `np.floating` is deprecated. In future, it will be treated as `np.float64 == np.dtype(float).type`.\n",
      "  from ._conv import register_converters as _register_converters\n",
      "Using TensorFlow backend.\n"
     ]
    }
   ],
   "source": [
    "import glob\n",
    "import pandas as pd\n",
    "import numpy as np\n",
    "import matplotlib.pyplot as plt\n",
    "%matplotlib inline\n",
    "import xgboost as xgb\n",
    "from sklearn.metrics import accuracy_score, recall_score, precision_score, f1_score\n",
    "from keras.models import Input, Model\n",
    "from keras.layers import Dense, Dropout\n",
    "from keras.layers import Embedding\n",
    "from keras.layers import LSTM\n",
    "from keras.callbacks import EarlyStopping, ReduceLROnPlateau, ModelCheckpoint, TensorBoard, CSVLogger\n",
    "from keras.utils import to_categorical\n",
    "\n",
    "import warnings\n",
    "warnings.filterwarnings('ignore')\n",
    "\n",
    "ACTION_DO_NOTHING = 0\n",
    "ACTION_LONG = 1 # 買い\n",
    "ACTION_SHORT = 2 # 空売り\n",
    "\n",
    "### LSTM Parameters\n",
    "SEQ_LENGTH = 10"
   ]
  },
  {
   "cell_type": "code",
   "execution_count": 4,
   "metadata": {},
   "outputs": [],
   "source": [
    "df = pd.read_csv(\"../input/exchange.csv\", parse_dates=[\"rate_date_time\"])\n",
    "df = df.sort_values(by=\"rate_date_time\").reset_index(drop=True)"
   ]
  },
  {
   "cell_type": "code",
   "execution_count": 5,
   "metadata": {},
   "outputs": [
    {
     "data": {
      "text/html": [
       "<div>\n",
       "<style scoped>\n",
       "    .dataframe tbody tr th:only-of-type {\n",
       "        vertical-align: middle;\n",
       "    }\n",
       "\n",
       "    .dataframe tbody tr th {\n",
       "        vertical-align: top;\n",
       "    }\n",
       "\n",
       "    .dataframe thead th {\n",
       "        text-align: right;\n",
       "    }\n",
       "</style>\n",
       "<table border=\"1\" class=\"dataframe\">\n",
       "  <thead>\n",
       "    <tr style=\"text-align: right;\">\n",
       "      <th></th>\n",
       "      <th>rate_date_time</th>\n",
       "      <th>rate_bid_open</th>\n",
       "      <th>rate_bid_high</th>\n",
       "      <th>rate_bid_low</th>\n",
       "      <th>rate_bid_close</th>\n",
       "      <th>rate_ask_open</th>\n",
       "      <th>rate_ask_high</th>\n",
       "      <th>rate_ask_low</th>\n",
       "      <th>rate_ask_close</th>\n",
       "    </tr>\n",
       "  </thead>\n",
       "  <tbody>\n",
       "    <tr>\n",
       "      <th>0</th>\n",
       "      <td>2015-01-04 17:00:00</td>\n",
       "      <td>120.491</td>\n",
       "      <td>120.555</td>\n",
       "      <td>120.483</td>\n",
       "      <td>120.506</td>\n",
       "      <td>120.527</td>\n",
       "      <td>120.625</td>\n",
       "      <td>120.527</td>\n",
       "      <td>120.568</td>\n",
       "    </tr>\n",
       "    <tr>\n",
       "      <th>1</th>\n",
       "      <td>2015-01-04 17:01:00</td>\n",
       "      <td>120.507</td>\n",
       "      <td>120.569</td>\n",
       "      <td>120.507</td>\n",
       "      <td>120.544</td>\n",
       "      <td>120.568</td>\n",
       "      <td>120.597</td>\n",
       "      <td>120.566</td>\n",
       "      <td>120.588</td>\n",
       "    </tr>\n",
       "    <tr>\n",
       "      <th>2</th>\n",
       "      <td>2015-01-04 17:02:00</td>\n",
       "      <td>120.542</td>\n",
       "      <td>120.592</td>\n",
       "      <td>120.542</td>\n",
       "      <td>120.568</td>\n",
       "      <td>120.588</td>\n",
       "      <td>120.616</td>\n",
       "      <td>120.588</td>\n",
       "      <td>120.601</td>\n",
       "    </tr>\n",
       "    <tr>\n",
       "      <th>3</th>\n",
       "      <td>2015-01-04 17:03:00</td>\n",
       "      <td>120.566</td>\n",
       "      <td>120.596</td>\n",
       "      <td>120.543</td>\n",
       "      <td>120.575</td>\n",
       "      <td>120.601</td>\n",
       "      <td>120.656</td>\n",
       "      <td>120.575</td>\n",
       "      <td>120.645</td>\n",
       "    </tr>\n",
       "    <tr>\n",
       "      <th>4</th>\n",
       "      <td>2015-01-04 17:04:00</td>\n",
       "      <td>120.576</td>\n",
       "      <td>120.587</td>\n",
       "      <td>120.502</td>\n",
       "      <td>120.585</td>\n",
       "      <td>120.646</td>\n",
       "      <td>120.646</td>\n",
       "      <td>120.520</td>\n",
       "      <td>120.608</td>\n",
       "    </tr>\n",
       "  </tbody>\n",
       "</table>\n",
       "</div>"
      ],
      "text/plain": [
       "       rate_date_time  rate_bid_open  rate_bid_high  rate_bid_low  \\\n",
       "0 2015-01-04 17:00:00        120.491        120.555       120.483   \n",
       "1 2015-01-04 17:01:00        120.507        120.569       120.507   \n",
       "2 2015-01-04 17:02:00        120.542        120.592       120.542   \n",
       "3 2015-01-04 17:03:00        120.566        120.596       120.543   \n",
       "4 2015-01-04 17:04:00        120.576        120.587       120.502   \n",
       "\n",
       "   rate_bid_close  rate_ask_open  rate_ask_high  rate_ask_low  rate_ask_close  \n",
       "0         120.506        120.527        120.625       120.527         120.568  \n",
       "1         120.544        120.568        120.597       120.566         120.588  \n",
       "2         120.568        120.588        120.616       120.588         120.601  \n",
       "3         120.575        120.601        120.656       120.575         120.645  \n",
       "4         120.585        120.646        120.646       120.520         120.608  "
      ]
     },
     "execution_count": 5,
     "metadata": {},
     "output_type": "execute_result"
    }
   ],
   "source": [
    "df.head()"
   ]
  },
  {
   "cell_type": "code",
   "execution_count": 6,
   "metadata": {},
   "outputs": [
    {
     "data": {
      "text/plain": [
       "<matplotlib.axes._subplots.AxesSubplot at 0x7f784e7f7110>"
      ]
     },
     "execution_count": 6,
     "metadata": {},
     "output_type": "execute_result"
    },
    {
     "data": {
      "image/png": "[encoded data removed]",
      "text/plain": [
       "<Figure size 432x288 with 1 Axes>"
      ]
     },
     "metadata": {},
     "output_type": "display_data"
    }
   ],
   "source": [
    "df.set_index(\"rate_date_time\").plot();"
   ]
  },
  {
   "cell_type": "code",
   "execution_count": 9,
   "metadata": {},
   "outputs": [],
   "source": [
    "T = 30 # 30分後\n",
    "# T = 15 # 15分後\n",
    "margin = 0.03 # 3銭の変動\n",
    "df[\"rate_bid\"] = (df[\"rate_bid_open\"] + df[\"rate_bid_close\"]) / 2.0\n",
    "df[\"rate_ask\"] = (df[\"rate_ask_open\"] + df[\"rate_ask_close\"]) / 2.0\n",
    "df[\"target_rate_bid\"] = df[\"rate_bid\"].shift(-T)\n",
    "df[\"target_rate_ask\"] = df[\"rate_ask\"].shift(-T)\n",
    "df[\"target_rate_date_time\"] = df[\"rate_date_time\"].shift(-T)\n",
    "df[\"target\"] = ACTION_DO_NOTHING # 何もしない\n",
    "df.loc[(df[\"target_rate_bid\"] > df[\"rate_ask\"] + margin), \"target\"] = ACTION_LONG # 買いのタイミング\n",
    "df.loc[(df[\"target_rate_ask\"] + margin < df[\"rate_bid\"]), \"target\"] = ACTION_SHORT # 売りのタイミング"
   ]
  },
  {
   "cell_type": "code",
   "execution_count": 23,
   "metadata": {},
   "outputs": [],
   "source": [
    "df[\"dow\"] = df[\"rate_date_time\"].dt.dayofweek\n",
    "df[\"year\"] = df[\"rate_date_time\"].dt.year\n",
    "df[\"month\"] = df[\"rate_date_time\"].dt.month\n",
    "df[\"day\"] = df[\"rate_date_time\"].dt.day\n",
    "df[\"hour\"] = df[\"rate_date_time\"].dt.hour\n",
    "df[\"minute\"] = df[\"rate_date_time\"].dt.minute\n",
    "df[\"rate_ask-rate_bid\"] = df[\"rate_ask\"] - df[\"rate_bid\"]\n",
    "# 直近との差\n",
    "df[\"rate_bid_diff_30m\"] = df[\"rate_bid\"] - df[\"rate_bid\"].shift(T)\n",
    "df[\"rate_bid_diff_10m\"] = df[\"rate_bid\"] - df[\"rate_bid\"].shift(T/3)\n",
    "# 移動平均\n",
    "df[\"rate_bid_avg_30m\"] = df[\"rate_bid\"].rolling(window=T).mean()\n",
    "df[\"rate_bid_avg_10m\"] = df[\"rate_bid\"].rolling(window=T/3).mean()\n",
    "df[\"rate_bid_avg_30m/rate_bid\"] = df[\"rate_bid_avg_30m\"] / df[\"rate_bid\"]\n",
    "df[\"rate_bid_avg_10m/rate_bid\"] = df[\"rate_bid_avg_10m\"] / df[\"rate_bid\"]\n",
    "# 分散\n",
    "df[\"rate_bid_std_30m\"] = df[\"rate_bid\"].rolling(window=T).std()\n",
    "df[\"rate_bid_std_10m\"] = df[\"rate_bid\"].rolling(window=T/3).std()\n",
    "# ポリジャーバンド\n",
    "df[\"rate_bid_upper_10m\"] = df[\"rate_bid_avg_10m\"] + 2.0 * df[\"rate_bid_std_10m\"]\n",
    "df[\"rate_bid_lower_10m\"] = df[\"rate_bid_avg_10m\"] - 2.0 * df[\"rate_bid_std_10m\"]\n",
    "df[\"rate_bid_upper_10m/rate_bid\"] = df[\"rate_bid_upper_10m\"] / df[\"rate_bid\"]\n",
    "df[\"rate_bid_lower_10m/rate_bid\"] = df[\"rate_bid_lower_10m\"] / df[\"rate_bid\"]\n",
    "# t値\n",
    "df[\"rate_bid_t_30m\"] = (df[\"rate_bid\"] - df[\"rate_bid_avg_30m\"]) / df[\"rate_bid_std_30m\"]\n",
    "df[\"rate_bid_t_10m\"] = (df[\"rate_bid\"] - df[\"rate_bid_avg_10m\"]) / df[\"rate_bid_std_10m\"]\n",
    "\n",
    "# フィボナッチすごい, cf. https://www.kaggle.com/safavieh/median-estimation-by-fibonacci-et-al-lb-44-9\n",
    "nums = [2, 3, 5, 8, 13, 21, 34, 55]\n",
    "cols = []\n",
    "for num in nums:\n",
    "    interval = num\n",
    "    col = \"rate_bid_median_%05d\" % interval\n",
    "    cols.append(col)\n",
    "    df[col] = df[\"rate_bid\"].rolling(window=interval).median()\n",
    "df[\"rate_bid_median\"] = df[cols].median(axis=1)\n",
    "df[\"rate_bid_median/rate_bid\"] = df[\"rate_bid_median\"] / df[\"rate_bid\"] "
   ]
  },
  {
   "cell_type": "code",
   "execution_count": 24,
   "metadata": {},
   "outputs": [],
   "source": [
    "df.dropna(inplace=True)"
   ]
  },
  {
   "cell_type": "code",
   "execution_count": 25,
   "metadata": {},
   "outputs": [
    {
     "data": {
      "text/html": [
       "<div>\n",
       "<style scoped>\n",
       "    .dataframe tbody tr th:only-of-type {\n",
       "        vertical-align: middle;\n",
       "    }\n",
       "\n",
       "    .dataframe tbody tr th {\n",
       "        vertical-align: top;\n",
       "    }\n",
       "\n",
       "    .dataframe thead th {\n",
       "        text-align: right;\n",
       "    }\n",
       "</style>\n",
       "<table border=\"1\" class=\"dataframe\">\n",
       "  <thead>\n",
       "    <tr style=\"text-align: right;\">\n",
       "      <th></th>\n",
       "      <th>rate_date_time</th>\n",
       "      <th>rate_bid_open</th>\n",
       "      <th>rate_bid_high</th>\n",
       "      <th>rate_bid_low</th>\n",
       "      <th>rate_bid_close</th>\n",
       "      <th>rate_ask_open</th>\n",
       "      <th>rate_ask_high</th>\n",
       "      <th>rate_ask_low</th>\n",
       "      <th>rate_ask_close</th>\n",
       "      <th>rate_bid</th>\n",
       "      <th>...</th>\n",
       "      <th>rate_bid_median_00005</th>\n",
       "      <th>rate_bid_median_00008</th>\n",
       "      <th>rate_bid_median_00013</th>\n",
       "      <th>rate_bid_median_00021</th>\n",
       "      <th>rate_bid_median_00034</th>\n",
       "      <th>rate_bid_median_00055</th>\n",
       "      <th>rate_bid_median</th>\n",
       "      <th>rate_bid_median/rate_bid</th>\n",
       "      <th>year</th>\n",
       "      <th>rate_ask-rate_bid</th>\n",
       "    </tr>\n",
       "  </thead>\n",
       "  <tbody>\n",
       "    <tr>\n",
       "      <th>162</th>\n",
       "      <td>2015-01-04 19:42:00</td>\n",
       "      <td>120.082</td>\n",
       "      <td>120.086</td>\n",
       "      <td>120.053</td>\n",
       "      <td>120.074</td>\n",
       "      <td>120.088</td>\n",
       "      <td>120.092</td>\n",
       "      <td>120.060</td>\n",
       "      <td>120.079</td>\n",
       "      <td>120.0780</td>\n",
       "      <td>...</td>\n",
       "      <td>120.0675</td>\n",
       "      <td>120.06975</td>\n",
       "      <td>120.0720</td>\n",
       "      <td>120.0980</td>\n",
       "      <td>120.16850</td>\n",
       "      <td>120.2090</td>\n",
       "      <td>120.073500</td>\n",
       "      <td>0.999963</td>\n",
       "      <td>2015</td>\n",
       "      <td>0.0055</td>\n",
       "    </tr>\n",
       "    <tr>\n",
       "      <th>163</th>\n",
       "      <td>2015-01-04 19:43:00</td>\n",
       "      <td>120.074</td>\n",
       "      <td>120.074</td>\n",
       "      <td>120.007</td>\n",
       "      <td>120.016</td>\n",
       "      <td>120.077</td>\n",
       "      <td>120.078</td>\n",
       "      <td>120.012</td>\n",
       "      <td>120.022</td>\n",
       "      <td>120.0450</td>\n",
       "      <td>...</td>\n",
       "      <td>120.0595</td>\n",
       "      <td>120.06625</td>\n",
       "      <td>120.0675</td>\n",
       "      <td>120.0935</td>\n",
       "      <td>120.16700</td>\n",
       "      <td>120.2085</td>\n",
       "      <td>120.069750</td>\n",
       "      <td>1.000206</td>\n",
       "      <td>2015</td>\n",
       "      <td>0.0045</td>\n",
       "    </tr>\n",
       "    <tr>\n",
       "      <th>164</th>\n",
       "      <td>2015-01-04 19:44:00</td>\n",
       "      <td>120.016</td>\n",
       "      <td>120.041</td>\n",
       "      <td>120.014</td>\n",
       "      <td>120.029</td>\n",
       "      <td>120.021</td>\n",
       "      <td>120.046</td>\n",
       "      <td>120.019</td>\n",
       "      <td>120.035</td>\n",
       "      <td>120.0225</td>\n",
       "      <td>...</td>\n",
       "      <td>120.0540</td>\n",
       "      <td>120.06225</td>\n",
       "      <td>120.0650</td>\n",
       "      <td>120.0780</td>\n",
       "      <td>120.16650</td>\n",
       "      <td>120.2050</td>\n",
       "      <td>120.063625</td>\n",
       "      <td>1.000343</td>\n",
       "      <td>2015</td>\n",
       "      <td>0.0055</td>\n",
       "    </tr>\n",
       "    <tr>\n",
       "      <th>165</th>\n",
       "      <td>2015-01-04 19:45:00</td>\n",
       "      <td>120.027</td>\n",
       "      <td>120.037</td>\n",
       "      <td>119.991</td>\n",
       "      <td>120.011</td>\n",
       "      <td>120.033</td>\n",
       "      <td>120.043</td>\n",
       "      <td>119.998</td>\n",
       "      <td>120.018</td>\n",
       "      <td>120.0190</td>\n",
       "      <td>...</td>\n",
       "      <td>120.0450</td>\n",
       "      <td>120.05675</td>\n",
       "      <td>120.0625</td>\n",
       "      <td>120.0755</td>\n",
       "      <td>120.16175</td>\n",
       "      <td>120.1895</td>\n",
       "      <td>120.059625</td>\n",
       "      <td>1.000338</td>\n",
       "      <td>2015</td>\n",
       "      <td>0.0065</td>\n",
       "    </tr>\n",
       "    <tr>\n",
       "      <th>166</th>\n",
       "      <td>2015-01-04 19:46:00</td>\n",
       "      <td>120.013</td>\n",
       "      <td>120.055</td>\n",
       "      <td>120.013</td>\n",
       "      <td>120.043</td>\n",
       "      <td>120.020</td>\n",
       "      <td>120.060</td>\n",
       "      <td>120.020</td>\n",
       "      <td>120.048</td>\n",
       "      <td>120.0280</td>\n",
       "      <td>...</td>\n",
       "      <td>120.0280</td>\n",
       "      <td>120.04950</td>\n",
       "      <td>120.0625</td>\n",
       "      <td>120.0720</td>\n",
       "      <td>120.14100</td>\n",
       "      <td>120.1885</td>\n",
       "      <td>120.056000</td>\n",
       "      <td>1.000233</td>\n",
       "      <td>2015</td>\n",
       "      <td>0.0060</td>\n",
       "    </tr>\n",
       "  </tbody>\n",
       "</table>\n",
       "<p>5 rows × 47 columns</p>\n",
       "</div>"
      ],
      "text/plain": [
       "         rate_date_time  rate_bid_open  rate_bid_high  rate_bid_low  \\\n",
       "162 2015-01-04 19:42:00        120.082        120.086       120.053   \n",
       "163 2015-01-04 19:43:00        120.074        120.074       120.007   \n",
       "164 2015-01-04 19:44:00        120.016        120.041       120.014   \n",
       "165 2015-01-04 19:45:00        120.027        120.037       119.991   \n",
       "166 2015-01-04 19:46:00        120.013        120.055       120.013   \n",
       "\n",
       "     rate_bid_close  rate_ask_open  rate_ask_high  rate_ask_low  \\\n",
       "162         120.074        120.088        120.092       120.060   \n",
       "163         120.016        120.077        120.078       120.012   \n",
       "164         120.029        120.021        120.046       120.019   \n",
       "165         120.011        120.033        120.043       119.998   \n",
       "166         120.043        120.020        120.060       120.020   \n",
       "\n",
       "     rate_ask_close  rate_bid        ...          rate_bid_median_00005  \\\n",
       "162         120.079  120.0780        ...                       120.0675   \n",
       "163         120.022  120.0450        ...                       120.0595   \n",
       "164         120.035  120.0225        ...                       120.0540   \n",
       "165         120.018  120.0190        ...                       120.0450   \n",
       "166         120.048  120.0280        ...                       120.0280   \n",
       "\n",
       "     rate_bid_median_00008  rate_bid_median_00013 rate_bid_median_00021  \\\n",
       "162              120.06975               120.0720              120.0980   \n",
       "163              120.06625               120.0675              120.0935   \n",
       "164              120.06225               120.0650              120.0780   \n",
       "165              120.05675               120.0625              120.0755   \n",
       "166              120.04950               120.0625              120.0720   \n",
       "\n",
       "     rate_bid_median_00034  rate_bid_median_00055  rate_bid_median  \\\n",
       "162              120.16850               120.2090       120.073500   \n",
       "163              120.16700               120.2085       120.069750   \n",
       "164              120.16650               120.2050       120.063625   \n",
       "165              120.16175               120.1895       120.059625   \n",
       "166              120.14100               120.1885       120.056000   \n",
       "\n",
       "     rate_bid_median/rate_bid  year  rate_ask-rate_bid  \n",
       "162                  0.999963  2015             0.0055  \n",
       "163                  1.000206  2015             0.0045  \n",
       "164                  1.000343  2015             0.0055  \n",
       "165                  1.000338  2015             0.0065  \n",
       "166                  1.000233  2015             0.0060  \n",
       "\n",
       "[5 rows x 47 columns]"
      ]
     },
     "execution_count": 25,
     "metadata": {},
     "output_type": "execute_result"
    }
   ],
   "source": [
    "df.head()"
   ]
  },
  {
   "cell_type": "code",
   "execution_count": 26,
   "metadata": {},
   "outputs": [
    {
     "data": {
      "image/png": "[encoded data removed]",
      "text/plain": [
       "<Figure size 432x288 with 1 Axes>"
      ]
     },
     "metadata": {},
     "output_type": "display_data"
    }
   ],
   "source": [
    "df[-100:].set_index(\"rate_date_time\")[[\"rate_bid_avg_10m/rate_bid\", \"rate_bid_avg_30m/rate_bid\"]].plot();"
   ]
  },
  {
   "cell_type": "code",
   "execution_count": 27,
   "metadata": {},
   "outputs": [
    {
     "data": {
      "image/png": "[encoded data removed]",
      "text/plain": [
       "<Figure size 432x288 with 1 Axes>"
      ]
     },
     "metadata": {},
     "output_type": "display_data"
    }
   ],
   "source": [
    "df[-100:].set_index(\"rate_date_time\")[[\"rate_bid\", \"rate_ask\", \"rate_bid_median\", \"rate_bid_lower_10m\", \"rate_bid_upper_10m\"]].plot();"
   ]
  },
  {
   "cell_type": "code",
   "execution_count": 28,
   "metadata": {},
   "outputs": [],
   "source": [
    "use_columns = [\n",
    "    \"rate_ask-rate_bid\", \n",
    "    \"dow\", \n",
    "    \"year\",\n",
    "    \"month\",\n",
    "    \"day\", \n",
    "    \"hour\", \n",
    "    \"minute\", \n",
    "    \"rate_bid_diff_30m\", \"rate_bid_diff_10m\", \n",
    "    \"rate_bid_avg_30m/rate_bid\", \"rate_bid_avg_10m/rate_bid\",\n",
    "    \"rate_bid_std_30m\", \"rate_bid_std_10m\",\n",
    "    \"rate_bid_upper_10m/rate_bid\", \"rate_bid_lower_10m/rate_bid\",\n",
    "    \"rate_bid_t_30m\", \"rate_bid_t_10m\",\n",
    "    \"rate_bid_median/rate_bid\"\n",
    "]"
   ]
  },
  {
   "cell_type": "code",
   "execution_count": 29,
   "metadata": {},
   "outputs": [],
   "source": [
    "def transform(df, seq_length):\n",
    "    num_train = int(len(df) * 0.8)\n",
    "    x_all = df[use_columns].values\n",
    "    y_all = df[\"target\"].values\n",
    "    X_train = []\n",
    "    X_test = []\n",
    "    y_train = []\n",
    "    y_test = []\n",
    "    m = seq_length\n",
    "    n = len(use_columns)\n",
    "    for i in range(m, len(df)):\n",
    "        if i < num_train:\n",
    "            X_train.append(x_all[-m+i:i].copy())\n",
    "            y_train.append(y_all[i].copy())\n",
    "        else:\n",
    "            X_test.append(x_all[-m+i:i].copy())\n",
    "            y_test.append(y_all[i].copy())\n",
    "    X_train = np.asarray(X_train)\n",
    "    y_train = np.asarray(y_train)\n",
    "    X_test = np.asarray(X_test)\n",
    "    y_test = np.asarray(y_test)\n",
    "    return (X_train,  y_train), (X_test, y_test)"
   ]
  },
  {
   "cell_type": "code",
   "execution_count": 30,
   "metadata": {},
   "outputs": [],
   "source": [
    "def build(seq_length, max_features):\n",
    "    input_tensor = Input(shape=(seq_length, max_features))\n",
    "    x = LSTM(128)(input_tensor)\n",
    "    x = Dropout(0.5)(x)\n",
    "    prediction = Dense(3, activation=\"softmax\")(x)\n",
    "    model = Model(input_tensor, prediction)\n",
    "    return model"
   ]
  },
  {
   "cell_type": "code",
   "execution_count": 39,
   "metadata": {},
   "outputs": [
    {
     "name": "stdout",
     "output_type": "stream",
     "text": [
      "(911004, 10, 18) (227754, 10, 18)\n"
     ]
    }
   ],
   "source": [
    "# 特徴抽出\n",
    "(X_train, y_train), (X_test, y_test) = transform(df, seq_length=SEQ_LENGTH)\n",
    "max_value = np.max(X_train)\n",
    "min_value = np.min(X_train)\n",
    "X_train = (X_train - min_value) / (max_value - min_value)\n",
    "X_test = (X_test - min_value) / (max_value - min_value)\n",
    "Y_train = to_categorical(y_train)\n",
    "Y_test = to_categorical(y_test)"
   ]
  },
  {
   "cell_type": "code",
   "execution_count": 34,
   "metadata": {},
   "outputs": [
    {
     "name": "stdout",
     "output_type": "stream",
     "text": [
      "_________________________________________________________________\n",
      "Layer (type)                 Output Shape              Param #   \n",
      "=================================================================\n",
      "input_2 (InputLayer)         (None, 10, 18)            0         \n",
      "_________________________________________________________________\n",
      "lstm_2 (LSTM)                (None, 128)               75264     \n",
      "_________________________________________________________________\n",
      "dropout_2 (Dropout)          (None, 128)               0         \n",
      "_________________________________________________________________\n",
      "dense_2 (Dense)              (None, 3)                 387       \n",
      "=================================================================\n",
      "Total params: 75,651\n",
      "Trainable params: 75,651\n",
      "Non-trainable params: 0\n",
      "_________________________________________________________________\n",
      "None\n"
     ]
    }
   ],
   "source": [
    "# モデル構築\n",
    "model = build(seq_length=SEQ_LENGTH, max_features=len(use_columns))\n",
    "model.compile(\n",
    "        loss='categorical_crossentropy',\n",
    "        optimizer='nadam',\n",
    "        metrics=['accuracy']\n",
    ")\n",
    "print model.summary()"
   ]
  },
  {
   "cell_type": "code",
   "execution_count": 35,
   "metadata": {
    "scrolled": false
   },
   "outputs": [
    {
     "name": "stdout",
     "output_type": "stream",
     "text": [
      "Train on 728804 samples, validate on 182200 samples\n",
      "Epoch 1/200\n",
      "728804/728804 [==============================] - 9s 12us/step - loss: 1.0899 - acc: 0.3957 - val_loss: 1.0772 - val_acc: 0.4407\n",
      "Epoch 2/200\n",
      "728804/728804 [==============================] - 8s 11us/step - loss: 1.0870 - acc: 0.3964 - val_loss: 1.0999 - val_acc: 0.3813\n",
      "Epoch 3/200\n",
      "728804/728804 [==============================] - 8s 11us/step - loss: 1.0856 - acc: 0.3984 - val_loss: 1.0786 - val_acc: 0.4160\n",
      "Epoch 4/200\n",
      "728804/728804 [==============================] - 9s 12us/step - loss: 1.0851 - acc: 0.3992 - val_loss: 1.0765 - val_acc: 0.4321\n",
      "Epoch 5/200\n",
      "728804/728804 [==============================] - 8s 11us/step - loss: 1.0849 - acc: 0.4001 - val_loss: 1.0773 - val_acc: 0.4311\n",
      "Epoch 6/200\n",
      "728804/728804 [==============================] - 8s 11us/step - loss: 1.0847 - acc: 0.4003 - val_loss: 1.0718 - val_acc: 0.4388\n",
      "Epoch 7/200\n",
      "728804/728804 [==============================] - 8s 11us/step - loss: 1.0845 - acc: 0.4006 - val_loss: 1.0790 - val_acc: 0.4198\n",
      "Epoch 8/200\n",
      "728804/728804 [==============================] - 9s 12us/step - loss: 1.0844 - acc: 0.4013 - val_loss: 1.0812 - val_acc: 0.4117\n",
      "Epoch 9/200\n",
      "728804/728804 [==============================] - 8s 11us/step - loss: 1.0842 - acc: 0.4014 - val_loss: 1.0843 - val_acc: 0.4048\n",
      "Epoch 10/200\n",
      "728804/728804 [==============================] - 8s 11us/step - loss: 1.0839 - acc: 0.4016 - val_loss: 1.0750 - val_acc: 0.4238\n",
      "\n",
      "Epoch 00010: ReduceLROnPlateau reducing learning rate to 0.000600000028498.\n",
      "Epoch 11/200\n",
      "728804/728804 [==============================] - 8s 11us/step - loss: 1.0819 - acc: 0.4053 - val_loss: 1.0727 - val_acc: 0.4289\n",
      "Epoch 00011: early stopping\n"
     ]
    }
   ],
   "source": [
    "# 学習\n",
    "callbacks = [\n",
    "    EarlyStopping(monitor='val_loss', patience=5, verbose=True, min_delta=1e-4),\n",
    "    ReduceLROnPlateau(monitor='val_loss', factor=0.3, patience=3, verbose=True, epsilon=1e-4),\n",
    "]\n",
    "num_valid = int(len(X_train) * 0.2)\n",
    "history = model.fit(X_train[:-num_valid], Y_train[:-num_valid], \n",
    "          validation_data=(X_train[-num_valid:], Y_train[-num_valid:]),\n",
    "          callbacks=callbacks,\n",
    "          batch_size=1024, \n",
    "          epochs=200)"
   ]
  },
  {
   "cell_type": "code",
   "execution_count": 36,
   "metadata": {},
   "outputs": [
    {
     "data": {
      "image/png": "[encoded data removed]",
      "text/plain": [
       "<Figure size 864x288 with 3 Axes>"
      ]
     },
     "metadata": {},
     "output_type": "display_data"
    }
   ],
   "source": [
    "history_df = pd.DataFrame(history.history)\n",
    "fig, axes = plt.subplots(nrows=1, ncols=3, figsize=(12, 4))\n",
    "history_df[[\"acc\", \"val_acc\"]].plot(ax=axes[0])\n",
    "history_df[[\"loss\", \"val_loss\"]].plot(ax=axes[1])\n",
    "history_df[[\"lr\"]].plot(ax=axes[2])\n",
    "fig.tight_layout()"
   ]
  },
  {
   "cell_type": "markdown",
   "metadata": {},
   "source": [
    "- 全然val_lossが減ってないし，学習できていなさそう．\n",
    "- データ数を増やせばなんとかなる？"
   ]
  },
  {
   "cell_type": "code",
   "execution_count": 40,
   "metadata": {},
   "outputs": [],
   "source": [
    "Y_pred = model.predict(X_test)\n",
    "y_pred = np.argmax(Y_pred, axis=1)"
   ]
  },
  {
   "cell_type": "code",
   "execution_count": 41,
   "metadata": {},
   "outputs": [],
   "source": [
    "num_train = int(len(df) * 0.8)\n",
    "train_df = df[:num_train]\n",
    "test_df = df[num_train:]"
   ]
  },
  {
   "cell_type": "code",
   "execution_count": 42,
   "metadata": {},
   "outputs": [
    {
     "name": "stdout",
     "output_type": "stream",
     "text": [
      "(911004, 10, 18) (911004,) (227754, 10, 18) (227754,)\n"
     ]
    }
   ],
   "source": [
    "print X_train.shape, y_train.shape, X_test.shape, y_test.shape"
   ]
  },
  {
   "cell_type": "code",
   "execution_count": 43,
   "metadata": {},
   "outputs": [
    {
     "name": "stdout",
     "output_type": "stream",
     "text": [
      "Accuracy: 0.4469\n",
      "Recall:       0.3515\n",
      "Precision:  0.3685\n",
      "F1:             0.3105\n"
     ]
    }
   ],
   "source": [
    "print \"Accuracy: %.4f\" % accuracy_score(y_test, y_pred)\n",
    "print \"Recall:       %.4f\" % recall_score(y_test, y_pred, average=\"macro\")\n",
    "print \"Precision:  %.4f\" % precision_score(y_test, y_pred, average=\"macro\")\n",
    "print \"F1:             %.4f\" % f1_score(y_test, y_pred, average=\"macro\")"
   ]
  },
  {
   "cell_type": "markdown",
   "metadata": {},
   "source": [
    "## 収益計算"
   ]
  },
  {
   "cell_type": "code",
   "execution_count": 45,
   "metadata": {},
   "outputs": [],
   "source": [
    "def calc_gain(x, charge=0.003):\n",
    "    if x[\"pred\"] == ACTION_DO_NOTHING:\n",
    "        return 0\n",
    "    if x[\"pred\"] == ACTION_LONG: # 買って売る\n",
    "        return x[\"target_rate_bid\"] - x[\"rate_ask\"] - 2*charge\n",
    "    if x[\"pred\"] == ACTION_SHORT: # 売って買う\n",
    "        return x[\"rate_bid\"] - x[\"target_rate_ask\"] - 2*charge\n",
    "test_df[\"pred\"] = y_pred\n",
    "test_df[\"gain\"] = test_df.apply(calc_gain, axis=1)"
   ]
  },
  {
   "cell_type": "code",
   "execution_count": 46,
   "metadata": {},
   "outputs": [
    {
     "name": "stdout",
     "output_type": "stream",
     "text": [
      "収益の期待値(1ドルあたり): -0.0012円\n",
      "収益の合算値: -271.5690円\n",
      "買った回数: 20606\n",
      "売った回数: 21680\n",
      "何もしなかった回数: 185468\n"
     ]
    }
   ],
   "source": [
    "print \"収益の期待値(1ドルあたり): %.4f円\" % test_df[\"gain\"].mean()\n",
    "print \"収益の合算値: %.4f円\" % test_df[\"gain\"].sum()\n",
    "print \"買った回数: %d\" % (test_df[\"pred\"] == ACTION_LONG).sum()\n",
    "print \"売った回数: %d\" % (test_df[\"pred\"] == ACTION_SHORT).sum()\n",
    "print \"何もしなかった回数: %d\" % (test_df[\"pred\"] == ACTION_DO_NOTHING).sum()"
   ]
  },
  {
   "cell_type": "markdown",
   "metadata": {},
   "source": [
    "## まとめ\n",
    "\n",
    "- LSTMで為替を予測\n",
    "- XGBoost版より性能悪化．\n",
    "- 特徴抽出やデータ数など，改善箇所はまだまだある．"
   ]
  },
  {
   "cell_type": "markdown",
   "metadata": {},
   "source": [
    "## References\n",
    "\n",
    "> [1]. [Recruit Restaurant Visitor Forecasting](https://www.kaggle.com/c/recruit-restaurant-visitor-forecasting), kaggle, 2017.\n",
    "\n",
    "> [2]. [GAIN Capital](http://ratedata.gaincapital.com/)"
   ]
  }
 ],
 "metadata": {
  "kernelspec": {
   "display_name": "Python 2",
   "language": "python",
   "name": "python2"
  },
  "language_info": {
   "codemirror_mode": {
    "name": "ipython",
    "version": 2
   },
   "file_extension": ".py",
   "mimetype": "text/x-python",
   "name": "python",
   "nbconvert_exporter": "python",
   "pygments_lexer": "ipython2",
   "version": "2.7.14"
  }
 },
 "nbformat": 4,
 "nbformat_minor": 2
}
