{
 "cells": [
  {
   "cell_type": "markdown",
   "metadata": {},
   "source": [
    "## 摘要\n",
    "\n",
    "- 30分後の為替の変動を予測してみる\n",
    "\n",
    "### データセット\n",
    "\n",
    "- [GAIN Capital](http://ratedata.gaincapital.com/)\n",
    "- 通貨ペア: USD/JPY\n",
    "- 期間: 2015-01-04 〜 2018-04-20\n",
    "- 間隔: 1分足\n",
    "\n",
    "### 前提条件\n",
    "\n",
    "- 0.3銭(0.0015%)の手数料を取られる\n",
    "\n",
    "### 売買の方針\n",
    "\n",
    "- 15分後の為替の変動を予測し，何もしない, 買い， 売りを決定する．\n",
    "- 1分ごとに売り買いの判断を行う．\n",
    "- 3銭(0.015%)以上変動しそうなら売り買いする．\n",
    "- ある程度自信があるときしか買わない．\n",
    "\n",
    "| 行動        | 値 | 説明                                      |\n",
    "| ------------ | --- | ------------------------------------------- |\n",
    "| 買い        | 1  |  現在の買値(Ask) < 将来の売値(Bid) |\n",
    "| 空売り      | 2 |  現在の売値(Bid) > 将来の買値(Ask) |\n",
    "| 何もしない | 0  |  それ以外 |    "
   ]
  },
  {
   "cell_type": "code",
   "execution_count": 1,
   "metadata": {},
   "outputs": [],
   "source": [
    "import glob\n",
    "import pandas as pd\n",
    "import numpy as np\n",
    "import matplotlib.pyplot as plt\n",
    "import itertools\n",
    "%matplotlib inline\n",
    "import xgboost as xgb\n",
    "from sklearn.metrics import accuracy_score, recall_score, precision_score, f1_score, confusion_matrix\n",
    "import warnings\n",
    "warnings.filterwarnings('ignore')\n",
    "\n",
    "ACTION_DO_NOTHING = 0\n",
    "ACTION_LONG = 1 # 買い\n",
    "ACTION_SHORT = 2 # 空売り\n",
    "ACTION_NAMES = [u\"do nothing\", u\"long\", u\"short\"]"
   ]
  },
  {
   "cell_type": "code",
   "execution_count": 2,
   "metadata": {},
   "outputs": [],
   "source": [
    "df = pd.read_csv(\"../input/exchange.csv\", parse_dates=[\"rate_date_time\"])\n",
    "df = df.sort_values(by=\"rate_date_time\").reset_index(drop=True)"
   ]
  },
  {
   "cell_type": "code",
   "execution_count": 3,
   "metadata": {},
   "outputs": [
    {
     "data": {
      "text/html": [
       "<div>\n",
       "<style scoped>\n",
       "    .dataframe tbody tr th:only-of-type {\n",
       "        vertical-align: middle;\n",
       "    }\n",
       "\n",
       "    .dataframe tbody tr th {\n",
       "        vertical-align: top;\n",
       "    }\n",
       "\n",
       "    .dataframe thead th {\n",
       "        text-align: right;\n",
       "    }\n",
       "</style>\n",
       "<table border=\"1\" class=\"dataframe\">\n",
       "  <thead>\n",
       "    <tr style=\"text-align: right;\">\n",
       "      <th></th>\n",
       "      <th>rate_date_time</th>\n",
       "      <th>rate_bid_open</th>\n",
       "      <th>rate_bid_high</th>\n",
       "      <th>rate_bid_low</th>\n",
       "      <th>rate_bid_close</th>\n",
       "      <th>rate_ask_open</th>\n",
       "      <th>rate_ask_high</th>\n",
       "      <th>rate_ask_low</th>\n",
       "      <th>rate_ask_close</th>\n",
       "    </tr>\n",
       "  </thead>\n",
       "  <tbody>\n",
       "    <tr>\n",
       "      <th>0</th>\n",
       "      <td>2015-01-04 17:00:00</td>\n",
       "      <td>120.491</td>\n",
       "      <td>120.555</td>\n",
       "      <td>120.483</td>\n",
       "      <td>120.506</td>\n",
       "      <td>120.527</td>\n",
       "      <td>120.625</td>\n",
       "      <td>120.527</td>\n",
       "      <td>120.568</td>\n",
       "    </tr>\n",
       "    <tr>\n",
       "      <th>1</th>\n",
       "      <td>2015-01-04 17:01:00</td>\n",
       "      <td>120.507</td>\n",
       "      <td>120.569</td>\n",
       "      <td>120.507</td>\n",
       "      <td>120.544</td>\n",
       "      <td>120.568</td>\n",
       "      <td>120.597</td>\n",
       "      <td>120.566</td>\n",
       "      <td>120.588</td>\n",
       "    </tr>\n",
       "    <tr>\n",
       "      <th>2</th>\n",
       "      <td>2015-01-04 17:02:00</td>\n",
       "      <td>120.542</td>\n",
       "      <td>120.592</td>\n",
       "      <td>120.542</td>\n",
       "      <td>120.568</td>\n",
       "      <td>120.588</td>\n",
       "      <td>120.616</td>\n",
       "      <td>120.588</td>\n",
       "      <td>120.601</td>\n",
       "    </tr>\n",
       "    <tr>\n",
       "      <th>3</th>\n",
       "      <td>2015-01-04 17:03:00</td>\n",
       "      <td>120.566</td>\n",
       "      <td>120.596</td>\n",
       "      <td>120.543</td>\n",
       "      <td>120.575</td>\n",
       "      <td>120.601</td>\n",
       "      <td>120.656</td>\n",
       "      <td>120.575</td>\n",
       "      <td>120.645</td>\n",
       "    </tr>\n",
       "    <tr>\n",
       "      <th>4</th>\n",
       "      <td>2015-01-04 17:04:00</td>\n",
       "      <td>120.576</td>\n",
       "      <td>120.587</td>\n",
       "      <td>120.502</td>\n",
       "      <td>120.585</td>\n",
       "      <td>120.646</td>\n",
       "      <td>120.646</td>\n",
       "      <td>120.520</td>\n",
       "      <td>120.608</td>\n",
       "    </tr>\n",
       "  </tbody>\n",
       "</table>\n",
       "</div>"
      ],
      "text/plain": [
       "       rate_date_time  rate_bid_open  rate_bid_high  rate_bid_low  \\\n",
       "0 2015-01-04 17:00:00        120.491        120.555       120.483   \n",
       "1 2015-01-04 17:01:00        120.507        120.569       120.507   \n",
       "2 2015-01-04 17:02:00        120.542        120.592       120.542   \n",
       "3 2015-01-04 17:03:00        120.566        120.596       120.543   \n",
       "4 2015-01-04 17:04:00        120.576        120.587       120.502   \n",
       "\n",
       "   rate_bid_close  rate_ask_open  rate_ask_high  rate_ask_low  rate_ask_close  \n",
       "0         120.506        120.527        120.625       120.527         120.568  \n",
       "1         120.544        120.568        120.597       120.566         120.588  \n",
       "2         120.568        120.588        120.616       120.588         120.601  \n",
       "3         120.575        120.601        120.656       120.575         120.645  \n",
       "4         120.585        120.646        120.646       120.520         120.608  "
      ]
     },
     "execution_count": 3,
     "metadata": {},
     "output_type": "execute_result"
    }
   ],
   "source": [
    "df.head()"
   ]
  },
  {
   "cell_type": "code",
   "execution_count": 4,
   "metadata": {},
   "outputs": [
    {
     "data": {
      "text/html": [
       "<div>\n",
       "<style scoped>\n",
       "    .dataframe tbody tr th:only-of-type {\n",
       "        vertical-align: middle;\n",
       "    }\n",
       "\n",
       "    .dataframe tbody tr th {\n",
       "        vertical-align: top;\n",
       "    }\n",
       "\n",
       "    .dataframe thead th {\n",
       "        text-align: right;\n",
       "    }\n",
       "</style>\n",
       "<table border=\"1\" class=\"dataframe\">\n",
       "  <thead>\n",
       "    <tr style=\"text-align: right;\">\n",
       "      <th></th>\n",
       "      <th>rate_bid_open</th>\n",
       "      <th>rate_bid_high</th>\n",
       "      <th>rate_bid_low</th>\n",
       "      <th>rate_bid_close</th>\n",
       "      <th>rate_ask_open</th>\n",
       "      <th>rate_ask_high</th>\n",
       "      <th>rate_ask_low</th>\n",
       "      <th>rate_ask_close</th>\n",
       "    </tr>\n",
       "  </thead>\n",
       "  <tbody>\n",
       "    <tr>\n",
       "      <th>count</th>\n",
       "      <td>1.227489e+06</td>\n",
       "      <td>1.227489e+06</td>\n",
       "      <td>1.227489e+06</td>\n",
       "      <td>1.227489e+06</td>\n",
       "      <td>1.227489e+06</td>\n",
       "      <td>1.227489e+06</td>\n",
       "      <td>1.227489e+06</td>\n",
       "      <td>1.227489e+06</td>\n",
       "    </tr>\n",
       "    <tr>\n",
       "      <th>mean</th>\n",
       "      <td>1.134083e+02</td>\n",
       "      <td>1.134182e+02</td>\n",
       "      <td>1.133982e+02</td>\n",
       "      <td>1.134082e+02</td>\n",
       "      <td>1.134139e+02</td>\n",
       "      <td>1.134239e+02</td>\n",
       "      <td>1.134040e+02</td>\n",
       "      <td>1.134140e+02</td>\n",
       "    </tr>\n",
       "    <tr>\n",
       "      <th>std</th>\n",
       "      <td>6.324863e+00</td>\n",
       "      <td>6.324490e+00</td>\n",
       "      <td>6.325300e+00</td>\n",
       "      <td>6.324886e+00</td>\n",
       "      <td>6.324192e+00</td>\n",
       "      <td>6.323766e+00</td>\n",
       "      <td>6.324586e+00</td>\n",
       "      <td>6.324175e+00</td>\n",
       "    </tr>\n",
       "    <tr>\n",
       "      <th>min</th>\n",
       "      <td>9.910100e+01</td>\n",
       "      <td>9.960400e+01</td>\n",
       "      <td>9.897900e+01</td>\n",
       "      <td>9.917700e+01</td>\n",
       "      <td>9.924200e+01</td>\n",
       "      <td>9.961100e+01</td>\n",
       "      <td>9.904200e+01</td>\n",
       "      <td>9.924000e+01</td>\n",
       "    </tr>\n",
       "    <tr>\n",
       "      <th>25%</th>\n",
       "      <td>1.092370e+02</td>\n",
       "      <td>1.092460e+02</td>\n",
       "      <td>1.092270e+02</td>\n",
       "      <td>1.092370e+02</td>\n",
       "      <td>1.092430e+02</td>\n",
       "      <td>1.092520e+02</td>\n",
       "      <td>1.092330e+02</td>\n",
       "      <td>1.092430e+02</td>\n",
       "    </tr>\n",
       "    <tr>\n",
       "      <th>50%</th>\n",
       "      <td>1.128350e+02</td>\n",
       "      <td>1.128440e+02</td>\n",
       "      <td>1.128250e+02</td>\n",
       "      <td>1.128350e+02</td>\n",
       "      <td>1.128400e+02</td>\n",
       "      <td>1.128500e+02</td>\n",
       "      <td>1.128310e+02</td>\n",
       "      <td>1.128400e+02</td>\n",
       "    </tr>\n",
       "    <tr>\n",
       "      <th>75%</th>\n",
       "      <td>1.192640e+02</td>\n",
       "      <td>1.192740e+02</td>\n",
       "      <td>1.192540e+02</td>\n",
       "      <td>1.192640e+02</td>\n",
       "      <td>1.192680e+02</td>\n",
       "      <td>1.192780e+02</td>\n",
       "      <td>1.192580e+02</td>\n",
       "      <td>1.192680e+02</td>\n",
       "    </tr>\n",
       "    <tr>\n",
       "      <th>max</th>\n",
       "      <td>1.258170e+02</td>\n",
       "      <td>1.258540e+02</td>\n",
       "      <td>1.258020e+02</td>\n",
       "      <td>1.258150e+02</td>\n",
       "      <td>1.258210e+02</td>\n",
       "      <td>1.258590e+02</td>\n",
       "      <td>1.258050e+02</td>\n",
       "      <td>1.258200e+02</td>\n",
       "    </tr>\n",
       "  </tbody>\n",
       "</table>\n",
       "</div>"
      ],
      "text/plain": [
       "       rate_bid_open  rate_bid_high  rate_bid_low  rate_bid_close  \\\n",
       "count   1.227489e+06   1.227489e+06  1.227489e+06    1.227489e+06   \n",
       "mean    1.134083e+02   1.134182e+02  1.133982e+02    1.134082e+02   \n",
       "std     6.324863e+00   6.324490e+00  6.325300e+00    6.324886e+00   \n",
       "min     9.910100e+01   9.960400e+01  9.897900e+01    9.917700e+01   \n",
       "25%     1.092370e+02   1.092460e+02  1.092270e+02    1.092370e+02   \n",
       "50%     1.128350e+02   1.128440e+02  1.128250e+02    1.128350e+02   \n",
       "75%     1.192640e+02   1.192740e+02  1.192540e+02    1.192640e+02   \n",
       "max     1.258170e+02   1.258540e+02  1.258020e+02    1.258150e+02   \n",
       "\n",
       "       rate_ask_open  rate_ask_high  rate_ask_low  rate_ask_close  \n",
       "count   1.227489e+06   1.227489e+06  1.227489e+06    1.227489e+06  \n",
       "mean    1.134139e+02   1.134239e+02  1.134040e+02    1.134140e+02  \n",
       "std     6.324192e+00   6.323766e+00  6.324586e+00    6.324175e+00  \n",
       "min     9.924200e+01   9.961100e+01  9.904200e+01    9.924000e+01  \n",
       "25%     1.092430e+02   1.092520e+02  1.092330e+02    1.092430e+02  \n",
       "50%     1.128400e+02   1.128500e+02  1.128310e+02    1.128400e+02  \n",
       "75%     1.192680e+02   1.192780e+02  1.192580e+02    1.192680e+02  \n",
       "max     1.258210e+02   1.258590e+02  1.258050e+02    1.258200e+02  "
      ]
     },
     "execution_count": 4,
     "metadata": {},
     "output_type": "execute_result"
    }
   ],
   "source": [
    "df.describe()"
   ]
  },
  {
   "cell_type": "markdown",
   "metadata": {},
   "source": [
    "#### 正解データの作成"
   ]
  },
  {
   "cell_type": "code",
   "execution_count": 5,
   "metadata": {},
   "outputs": [],
   "source": [
    "# T = 30 # 30分後\n",
    "T = 15 # 15分後\n",
    "margin = 0.03 # 3銭の変動\n",
    "df[\"rate_bid\"] = (df[\"rate_bid_open\"] + df[\"rate_bid_close\"]) / 2.0\n",
    "df[\"rate_ask\"] = (df[\"rate_ask_open\"] + df[\"rate_ask_close\"]) / 2.0\n",
    "df[\"target_rate_bid\"] = df[\"rate_bid\"].shift(-T)\n",
    "df[\"target_rate_ask\"] = df[\"rate_ask\"].shift(-T)\n",
    "df[\"target_rate_date_time\"] = df[\"rate_date_time\"].shift(-T)\n",
    "df[\"target\"] = ACTION_DO_NOTHING # 何もしない\n",
    "df.loc[(df[\"target_rate_bid\"] > df[\"rate_ask\"] + margin), \"target\"] = ACTION_LONG # 買いのタイミング\n",
    "df.loc[(df[\"target_rate_ask\"] + margin < df[\"rate_bid\"]), \"target\"] = ACTION_SHORT # 売りのタイミング"
   ]
  },
  {
   "cell_type": "markdown",
   "metadata": {},
   "source": [
    "#### 特徴抽出"
   ]
  },
  {
   "cell_type": "code",
   "execution_count": 6,
   "metadata": {},
   "outputs": [],
   "source": [
    "\n",
    "# 時間関連\n",
    "df[\"dow\"] = df[\"rate_date_time\"].dt.dayofweek\n",
    "df[\"year\"] = df[\"rate_date_time\"].dt.year\n",
    "df[\"quarter\"] = df[\"rate_date_time\"].dt.quarter\n",
    "df[\"month\"] = df[\"rate_date_time\"].dt.month\n",
    "df[\"weekofyear\"] = df[\"rate_date_time\"].dt.weekofyear\n",
    "df[\"dayofyear\"] = df[\"rate_date_time\"].dt.dayofyear\n",
    "df[\"day\"] = df[\"rate_date_time\"].dt.day\n",
    "df[\"hour\"] = df[\"rate_date_time\"].dt.hour\n",
    "df[\"minute\"] = df[\"rate_date_time\"].dt.minute\n",
    "df[\"is_month_start\"] = df[\"rate_date_time\"].dt.is_month_start\n",
    "df[\"is_month_end\"] = df[\"rate_date_time\"].dt.is_month_end\n",
    "df[\"is_quarter_start\"] = df[\"rate_date_time\"].dt.is_quarter_start\n",
    "df[\"is_quarter_end\"] = df[\"rate_date_time\"].dt.is_quarter_end\n",
    "df[\"is_year_start\"] = df[\"rate_date_time\"].dt.is_year_start\n",
    "df[\"is_year_end\"] = df[\"rate_date_time\"].dt.is_year_end\n",
    "# スプレッド\n",
    "df[\"rate_ask-rate_bid\"] = df[\"rate_ask\"] - df[\"rate_bid\"]\n",
    "# 直近との差\n",
    "df[\"rate_bid_diff_30m\"] = df[\"rate_bid\"] - df[\"rate_bid\"].shift(T)\n",
    "df[\"rate_bid_diff_10m\"] = df[\"rate_bid\"] - df[\"rate_bid\"].shift(T/3)\n",
    "# 移動平均\n",
    "df[\"rate_bid_avg_30m\"] = df[\"rate_bid\"].rolling(window=T).mean()\n",
    "df[\"rate_bid_avg_10m\"] = df[\"rate_bid\"].rolling(window=T/3).mean()\n",
    "df[\"rate_bid_avg_30m/rate_bid\"] = df[\"rate_bid_avg_30m\"] / df[\"rate_bid\"]\n",
    "df[\"rate_bid_avg_10m/rate_bid\"] = df[\"rate_bid_avg_10m\"] / df[\"rate_bid\"]\n",
    "# 分散\n",
    "df[\"rate_bid_std_30m\"] = df[\"rate_bid\"].rolling(window=T).std()\n",
    "df[\"rate_bid_std_10m\"] = df[\"rate_bid\"].rolling(window=T/3).std()\n",
    "# ポリジャーバンド\n",
    "df[\"rate_bid_upper_10m\"] = df[\"rate_bid_avg_10m\"] + 2.0 * df[\"rate_bid_std_10m\"]\n",
    "df[\"rate_bid_lower_10m\"] = df[\"rate_bid_avg_10m\"] - 2.0 * df[\"rate_bid_std_10m\"]\n",
    "df[\"rate_bid_upper_10m/rate_bid\"] = df[\"rate_bid_upper_10m\"] / df[\"rate_bid\"]\n",
    "df[\"rate_bid_lower_10m/rate_bid\"] = df[\"rate_bid_lower_10m\"] / df[\"rate_bid\"]\n",
    "# t値\n",
    "df[\"rate_bid_t_30m\"] = (df[\"rate_bid\"] - df[\"rate_bid_avg_30m\"]) / df[\"rate_bid_std_30m\"]\n",
    "df[\"rate_bid_t_10m\"] = (df[\"rate_bid\"] - df[\"rate_bid_avg_10m\"]) / df[\"rate_bid_std_10m\"]\n",
    "\n",
    "# フィボナッチすごい, cf. https://www.kaggle.com/safavieh/median-estimation-by-fibonacci-et-al-lb-44-9\n",
    "nums = [2, 3, 5, 8, 13, 21, 34, 55]\n",
    "cols = []\n",
    "for num in nums:\n",
    "    interval = num\n",
    "    col = \"rate_bid_median_%05d\" % interval\n",
    "    cols.append(col)\n",
    "    df[col] = df[\"rate_bid\"].rolling(window=interval).median()\n",
    "df[\"rate_bid_median\"] = df[cols].median(axis=1)\n",
    "df[\"rate_bid_median/rate_bid\"] = df[\"rate_bid_median\"] / df[\"rate_bid\"] "
   ]
  },
  {
   "cell_type": "code",
   "execution_count": 7,
   "metadata": {},
   "outputs": [],
   "source": [
    "df.dropna(inplace=True)"
   ]
  },
  {
   "cell_type": "code",
   "execution_count": 8,
   "metadata": {},
   "outputs": [
    {
     "data": {
      "text/html": [
       "<div>\n",
       "<style scoped>\n",
       "    .dataframe tbody tr th:only-of-type {\n",
       "        vertical-align: middle;\n",
       "    }\n",
       "\n",
       "    .dataframe tbody tr th {\n",
       "        vertical-align: top;\n",
       "    }\n",
       "\n",
       "    .dataframe thead th {\n",
       "        text-align: right;\n",
       "    }\n",
       "</style>\n",
       "<table border=\"1\" class=\"dataframe\">\n",
       "  <thead>\n",
       "    <tr style=\"text-align: right;\">\n",
       "      <th></th>\n",
       "      <th>rate_date_time</th>\n",
       "      <th>rate_bid_open</th>\n",
       "      <th>rate_bid_high</th>\n",
       "      <th>rate_bid_low</th>\n",
       "      <th>rate_bid_close</th>\n",
       "      <th>rate_ask_open</th>\n",
       "      <th>rate_ask_high</th>\n",
       "      <th>rate_ask_low</th>\n",
       "      <th>rate_ask_close</th>\n",
       "      <th>rate_bid</th>\n",
       "      <th>...</th>\n",
       "      <th>rate_bid_median_00002</th>\n",
       "      <th>rate_bid_median_00003</th>\n",
       "      <th>rate_bid_median_00005</th>\n",
       "      <th>rate_bid_median_00008</th>\n",
       "      <th>rate_bid_median_00013</th>\n",
       "      <th>rate_bid_median_00021</th>\n",
       "      <th>rate_bid_median_00034</th>\n",
       "      <th>rate_bid_median_00055</th>\n",
       "      <th>rate_bid_median</th>\n",
       "      <th>rate_bid_median/rate_bid</th>\n",
       "    </tr>\n",
       "  </thead>\n",
       "  <tbody>\n",
       "    <tr>\n",
       "      <th>54</th>\n",
       "      <td>2015-01-04 17:54:00</td>\n",
       "      <td>120.574</td>\n",
       "      <td>120.576</td>\n",
       "      <td>120.572</td>\n",
       "      <td>120.573</td>\n",
       "      <td>120.592</td>\n",
       "      <td>120.594</td>\n",
       "      <td>120.582</td>\n",
       "      <td>120.587</td>\n",
       "      <td>120.5735</td>\n",
       "      <td>...</td>\n",
       "      <td>120.57750</td>\n",
       "      <td>120.5815</td>\n",
       "      <td>120.5800</td>\n",
       "      <td>120.5775</td>\n",
       "      <td>120.5755</td>\n",
       "      <td>120.571</td>\n",
       "      <td>120.52975</td>\n",
       "      <td>120.5155</td>\n",
       "      <td>120.576500</td>\n",
       "      <td>1.000025</td>\n",
       "    </tr>\n",
       "    <tr>\n",
       "      <th>55</th>\n",
       "      <td>2015-01-04 17:55:00</td>\n",
       "      <td>120.573</td>\n",
       "      <td>120.575</td>\n",
       "      <td>120.566</td>\n",
       "      <td>120.566</td>\n",
       "      <td>120.591</td>\n",
       "      <td>120.596</td>\n",
       "      <td>120.576</td>\n",
       "      <td>120.576</td>\n",
       "      <td>120.5695</td>\n",
       "      <td>...</td>\n",
       "      <td>120.57150</td>\n",
       "      <td>120.5735</td>\n",
       "      <td>120.5795</td>\n",
       "      <td>120.5775</td>\n",
       "      <td>120.5755</td>\n",
       "      <td>120.571</td>\n",
       "      <td>120.53800</td>\n",
       "      <td>120.5180</td>\n",
       "      <td>120.572500</td>\n",
       "      <td>1.000025</td>\n",
       "    </tr>\n",
       "    <tr>\n",
       "      <th>56</th>\n",
       "      <td>2015-01-04 17:56:00</td>\n",
       "      <td>120.569</td>\n",
       "      <td>120.569</td>\n",
       "      <td>120.524</td>\n",
       "      <td>120.526</td>\n",
       "      <td>120.576</td>\n",
       "      <td>120.581</td>\n",
       "      <td>120.548</td>\n",
       "      <td>120.550</td>\n",
       "      <td>120.5475</td>\n",
       "      <td>...</td>\n",
       "      <td>120.55850</td>\n",
       "      <td>120.5695</td>\n",
       "      <td>120.5735</td>\n",
       "      <td>120.5775</td>\n",
       "      <td>120.5755</td>\n",
       "      <td>120.571</td>\n",
       "      <td>120.54575</td>\n",
       "      <td>120.5180</td>\n",
       "      <td>120.570250</td>\n",
       "      <td>1.000189</td>\n",
       "    </tr>\n",
       "    <tr>\n",
       "      <th>57</th>\n",
       "      <td>2015-01-04 17:57:00</td>\n",
       "      <td>120.524</td>\n",
       "      <td>120.537</td>\n",
       "      <td>120.503</td>\n",
       "      <td>120.506</td>\n",
       "      <td>120.548</td>\n",
       "      <td>120.561</td>\n",
       "      <td>120.515</td>\n",
       "      <td>120.524</td>\n",
       "      <td>120.5150</td>\n",
       "      <td>...</td>\n",
       "      <td>120.53125</td>\n",
       "      <td>120.5475</td>\n",
       "      <td>120.5695</td>\n",
       "      <td>120.5765</td>\n",
       "      <td>120.5755</td>\n",
       "      <td>120.571</td>\n",
       "      <td>120.54575</td>\n",
       "      <td>120.5155</td>\n",
       "      <td>120.558500</td>\n",
       "      <td>1.000361</td>\n",
       "    </tr>\n",
       "    <tr>\n",
       "      <th>58</th>\n",
       "      <td>2015-01-04 17:58:00</td>\n",
       "      <td>120.508</td>\n",
       "      <td>120.528</td>\n",
       "      <td>120.507</td>\n",
       "      <td>120.513</td>\n",
       "      <td>120.524</td>\n",
       "      <td>120.540</td>\n",
       "      <td>120.524</td>\n",
       "      <td>120.537</td>\n",
       "      <td>120.5105</td>\n",
       "      <td>...</td>\n",
       "      <td>120.51275</td>\n",
       "      <td>120.5150</td>\n",
       "      <td>120.5475</td>\n",
       "      <td>120.5715</td>\n",
       "      <td>120.5755</td>\n",
       "      <td>120.571</td>\n",
       "      <td>120.54575</td>\n",
       "      <td>120.5150</td>\n",
       "      <td>120.546625</td>\n",
       "      <td>1.000300</td>\n",
       "    </tr>\n",
       "  </tbody>\n",
       "</table>\n",
       "<p>5 rows × 55 columns</p>\n",
       "</div>"
      ],
      "text/plain": [
       "        rate_date_time  rate_bid_open  rate_bid_high  rate_bid_low  \\\n",
       "54 2015-01-04 17:54:00        120.574        120.576       120.572   \n",
       "55 2015-01-04 17:55:00        120.573        120.575       120.566   \n",
       "56 2015-01-04 17:56:00        120.569        120.569       120.524   \n",
       "57 2015-01-04 17:57:00        120.524        120.537       120.503   \n",
       "58 2015-01-04 17:58:00        120.508        120.528       120.507   \n",
       "\n",
       "    rate_bid_close  rate_ask_open  rate_ask_high  rate_ask_low  \\\n",
       "54         120.573        120.592        120.594       120.582   \n",
       "55         120.566        120.591        120.596       120.576   \n",
       "56         120.526        120.576        120.581       120.548   \n",
       "57         120.506        120.548        120.561       120.515   \n",
       "58         120.513        120.524        120.540       120.524   \n",
       "\n",
       "    rate_ask_close  rate_bid            ...             rate_bid_median_00002  \\\n",
       "54         120.587  120.5735            ...                         120.57750   \n",
       "55         120.576  120.5695            ...                         120.57150   \n",
       "56         120.550  120.5475            ...                         120.55850   \n",
       "57         120.524  120.5150            ...                         120.53125   \n",
       "58         120.537  120.5105            ...                         120.51275   \n",
       "\n",
       "    rate_bid_median_00003  rate_bid_median_00005 rate_bid_median_00008  \\\n",
       "54               120.5815               120.5800              120.5775   \n",
       "55               120.5735               120.5795              120.5775   \n",
       "56               120.5695               120.5735              120.5775   \n",
       "57               120.5475               120.5695              120.5765   \n",
       "58               120.5150               120.5475              120.5715   \n",
       "\n",
       "    rate_bid_median_00013  rate_bid_median_00021  rate_bid_median_00034  \\\n",
       "54               120.5755                120.571              120.52975   \n",
       "55               120.5755                120.571              120.53800   \n",
       "56               120.5755                120.571              120.54575   \n",
       "57               120.5755                120.571              120.54575   \n",
       "58               120.5755                120.571              120.54575   \n",
       "\n",
       "    rate_bid_median_00055  rate_bid_median  rate_bid_median/rate_bid  \n",
       "54               120.5155       120.576500                  1.000025  \n",
       "55               120.5180       120.572500                  1.000025  \n",
       "56               120.5180       120.570250                  1.000189  \n",
       "57               120.5155       120.558500                  1.000361  \n",
       "58               120.5150       120.546625                  1.000300  \n",
       "\n",
       "[5 rows x 55 columns]"
      ]
     },
     "execution_count": 8,
     "metadata": {},
     "output_type": "execute_result"
    }
   ],
   "source": [
    "df.head()"
   ]
  },
  {
   "cell_type": "code",
   "execution_count": 9,
   "metadata": {},
   "outputs": [
    {
     "data": {
      "image/png": "[encoded data removed]",
      "text/plain": [
       "<Figure size 432x288 with 1 Axes>"
      ]
     },
     "metadata": {},
     "output_type": "display_data"
    }
   ],
   "source": [
    "_df = df[-100:].set_index(\"rate_date_time\")\n",
    "ax = _df[[\"rate_bid\", \"rate_ask\"]].plot();\n",
    "ax = _df[[\"rate_bid_median\", \"rate_bid_lower_10m\", \"rate_bid_upper_10m\"]].plot(ax=ax, style=\"--\");"
   ]
  },
  {
   "cell_type": "code",
   "execution_count": 10,
   "metadata": {},
   "outputs": [],
   "source": [
    "use_columns = [\n",
    "  \"rate_bid_open\",\n",
    "  \"rate_bid_high\",\n",
    "  \"rate_bid_low\",\n",
    "  \"rate_bid_close\",\n",
    "  \"rate_ask_open\",\n",
    "  \"rate_ask_high\",\n",
    "  \"rate_ask_low\",\n",
    "  \"rate_ask_close\",\n",
    "  \"rate_bid\",\n",
    "  \"rate_ask\",\n",
    "  \"dow\",\n",
    "  \"year\",\n",
    "  \"quarter\",\n",
    "  \"month\",\n",
    "  \"weekofyear\",\n",
    "  \"dayofyear\",\n",
    "  \"day\",\n",
    "  \"hour\",\n",
    "  \"minute\",\n",
    "  \"is_month_start\",\n",
    "  \"is_month_end\",\n",
    "  \"is_quarter_start\",\n",
    "  \"is_quarter_end\",\n",
    "  \"is_year_start\",\n",
    "  \"is_year_end\",\n",
    "  \"rate_ask-rate_bid\",\n",
    "  \"rate_bid_diff_30m\",\n",
    "  \"rate_bid_diff_10m\",\n",
    "  \"rate_bid_avg_30m\",\n",
    "  \"rate_bid_avg_10m\",\n",
    "  \"rate_bid_avg_30m/rate_bid\",\n",
    "  \"rate_bid_avg_10m/rate_bid\",\n",
    "  \"rate_bid_std_30m\",\n",
    "  \"rate_bid_std_10m\",\n",
    "  \"rate_bid_upper_10m\",\n",
    "  \"rate_bid_lower_10m\",\n",
    "  \"rate_bid_upper_10m/rate_bid\",\n",
    "  \"rate_bid_lower_10m/rate_bid\",\n",
    "  \"rate_bid_t_30m\",\n",
    "  \"rate_bid_t_10m\",\n",
    "  \"rate_bid_median_00002\",\n",
    "  \"rate_bid_median_00003\",\n",
    "  \"rate_bid_median_00005\",\n",
    "  \"rate_bid_median_00008\",\n",
    "  \"rate_bid_median_00013\",\n",
    "  \"rate_bid_median_00021\",\n",
    "  \"rate_bid_median_00034\",\n",
    "  \"rate_bid_median_00055\",\n",
    "  \"rate_bid_median\",\n",
    "  \"rate_bid_median/rate_bid\",\n",
    "]"
   ]
  },
  {
   "cell_type": "code",
   "execution_count": 11,
   "metadata": {},
   "outputs": [],
   "source": [
    "num_train = int(len(df) * 0.8)\n",
    "train_df = df[:num_train]\n",
    "test_df = df[num_train:]"
   ]
  },
  {
   "cell_type": "code",
   "execution_count": 12,
   "metadata": {},
   "outputs": [
    {
     "name": "stdout",
     "output_type": "stream",
     "text": [
      "TRAIN TERM: 2015-01-04 - 2017-08-17\n",
      "TRAIN TERM: 2017-08-17 - 2018-04-20\n"
     ]
    }
   ],
   "source": [
    "_start_date = train_df[\"rate_date_time\"].min().strftime(\"%Y-%m-%d\")\n",
    "_end_date = train_df[\"rate_date_time\"].max().strftime(\"%Y-%m-%d\")\n",
    "print \"TRAIN TERM: %s - %s\" % (_start_date, _end_date)\n",
    "\n",
    "_start_date = test_df[\"rate_date_time\"].min().strftime(\"%Y-%m-%d\")\n",
    "_end_date = test_df[\"rate_date_time\"].max().strftime(\"%Y-%m-%d\")\n",
    "print \"TRAIN TERM: %s - %s\" % (_start_date, _end_date)"
   ]
  },
  {
   "cell_type": "code",
   "execution_count": 13,
   "metadata": {},
   "outputs": [
    {
     "data": {
      "image/png": "[encoded data removed]",
      "text/plain": [
       "<Figure size 432x288 with 1 Axes>"
      ]
     },
     "metadata": {},
     "output_type": "display_data"
    }
   ],
   "source": [
    "a = train_df[\"target\"].value_counts(1)\n",
    "b = test_df[\"target\"].value_counts(1)\n",
    "_df = pd.concat([a.to_frame(name=\"train\"), b.to_frame(name=\"test\")], axis=1)\n",
    "_df.plot(kind=\"bar\");"
   ]
  },
  {
   "cell_type": "code",
   "execution_count": 14,
   "metadata": {},
   "outputs": [],
   "source": [
    "X_train = train_df[use_columns].values\n",
    "y_train = train_df[\"target\"].values\n",
    "X_test = test_df[use_columns].values\n",
    "y_test = test_df[\"target\"].values"
   ]
  },
  {
   "cell_type": "code",
   "execution_count": 15,
   "metadata": {
    "scrolled": false
   },
   "outputs": [
    {
     "name": "stdout",
     "output_type": "stream",
     "text": [
      "[0]\ttrain-merror:0.449741\tvalid-merror:0.488585\n",
      "Multiple eval metrics have been passed: 'valid-merror' will be used for early stopping.\n",
      "\n",
      "Will train until valid-merror hasn't improved in 100 rounds.\n",
      "[30]\ttrain-merror:0.443707\tvalid-merror:0.524011\n",
      "[60]\ttrain-merror:0.436952\tvalid-merror:0.588979\n",
      "[90]\ttrain-merror:0.431949\tvalid-merror:0.613206\n",
      "Stopping. Best iteration:\n",
      "[0]\ttrain-merror:0.449741\tvalid-merror:0.488585\n",
      "\n",
      "[0]\ttrain-merror:0.459913\tvalid-merror:0.467038\n",
      "Multiple eval metrics have been passed: 'valid-merror' will be used for early stopping.\n",
      "\n",
      "Will train until valid-merror hasn't improved in 100 rounds.\n",
      "[30]\ttrain-merror:0.455206\tvalid-merror:0.466353\n",
      "[60]\ttrain-merror:0.44985\tvalid-merror:0.474734\n",
      "[90]\ttrain-merror:0.446215\tvalid-merror:0.480948\n",
      "Stopping. Best iteration:\n",
      "[18]\ttrain-merror:0.456982\tvalid-merror:0.463957\n",
      "\n",
      "[0]\ttrain-merror:0.472354\tvalid-merror:0.414698\n",
      "Multiple eval metrics have been passed: 'valid-merror' will be used for early stopping.\n",
      "\n",
      "Will train until valid-merror hasn't improved in 100 rounds.\n",
      "[30]\ttrain-merror:0.467036\tvalid-merror:0.412927\n",
      "[60]\ttrain-merror:0.462718\tvalid-merror:0.414105\n",
      "[90]\ttrain-merror:0.459216\tvalid-merror:0.41481\n",
      "[120]\ttrain-merror:0.45583\tvalid-merror:0.41398\n",
      "Stopping. Best iteration:\n",
      "[37]\ttrain-merror:0.466022\tvalid-merror:0.41271\n",
      "\n"
     ]
    }
   ],
   "source": [
    "xgb_params = {\n",
    "    'objective': 'multi:softprob',\n",
    "    'eta': 0.1,\n",
    "    'max_depth': 5,\n",
    "    'subsample': 0.7,           \n",
    "    'colsample_bytree': 0.7, \n",
    "    # 'eval_metric': 'mlogloss',\n",
    "    'random_state': 777,\n",
    "    'silent': 1,\n",
    "    'num_class': len(set(y_train)),\n",
    "}\n",
    "# Simulated Hierarchical Forecast\n",
    "models = []\n",
    "num_model = 3\n",
    "for i in range(num_model):\n",
    "    train_ratio = 0.5 + 0.5 * i / num_model \n",
    "    _num_train = int(len(y_train) * train_ratio)\n",
    "    dtrain = xgb.DMatrix(X_train[:_num_train], label=y_train[:_num_train], feature_names=use_columns)\n",
    "    dvalid = xgb.DMatrix(X_train[_num_train:], label=y_train[_num_train:], feature_names=use_columns)\n",
    "    watchlist = [(dtrain, \"train\"), (dvalid, \"valid\")]\n",
    "    num_round = 3000\n",
    "    model = xgb.train(\n",
    "        xgb_params, dtrain, num_round, \n",
    "        evals=watchlist,\n",
    "        early_stopping_rounds=100,\n",
    "        verbose_eval=30,\n",
    "    )\n",
    "    models.append(model)"
   ]
  },
  {
   "cell_type": "code",
   "execution_count": 16,
   "metadata": {},
   "outputs": [
    {
     "data": {
      "image/png": "[encoded data removed]",
      "text/plain": [
       "<Figure size 432x576 with 1 Axes>"
      ]
     },
     "metadata": {},
     "output_type": "display_data"
    }
   ],
   "source": [
    "ax = xgb.plot_importance(model)\n",
    "ax.figure.set_size_inches(6, 8);"
   ]
  },
  {
   "cell_type": "markdown",
   "metadata": {},
   "source": [
    "- 判断材料としては，直近30分の売りの標準偏差(rate_bid_std_30m)と時間(hour)が多いので，何かしらの傾向が見られないか調べてみる．\n",
    "\n",
    "#### hourの傾向"
   ]
  },
  {
   "cell_type": "code",
   "execution_count": 17,
   "metadata": {},
   "outputs": [
    {
     "data": {
      "image/png": "[encoded data removed]",
      "text/plain": [
       "<Figure size 864x288 with 2 Axes>"
      ]
     },
     "metadata": {},
     "output_type": "display_data"
    }
   ],
   "source": [
    "def _show(df, ax, title):\n",
    "    df[\"target_rate_bid-rate_bid\"] = df[\"target_rate_bid\"] - df[\"rate_bid\"]\n",
    "    df.groupby(\"hour\")[\"target_rate_bid-rate_bid\"].mean().plot(kind=\"bar\", ax=ax)\n",
    "    ax.set_title(title);\n",
    "    \n",
    "fig, axes = plt.subplots(nrows=1, ncols=2, figsize=(12, 4))\n",
    "_show(train_df, axes[0], u\"Exchange rate fluctuations for each hour(Train)\")\n",
    "_show(test_df, axes[1], u\"Exchange rate fluctuations for each hour(Test)\")\n",
    "fig.tight_layout();"
   ]
  },
  {
   "cell_type": "markdown",
   "metadata": {},
   "source": [
    "- 訓練データとテストデータで傾向がバラバラなので，下手にこれで判断すると性能を落とすだけになりそう．\n",
    "- 訓練データを細分化して，見かけ上のパラメータを除外なり，ノイズとして削いでやる必要がある．"
   ]
  },
  {
   "cell_type": "code",
   "execution_count": 18,
   "metadata": {},
   "outputs": [],
   "source": [
    "dtest = xgb.DMatrix(X_test, feature_names=use_columns)\n",
    "y_preda_list = []\n",
    "for model in models:\n",
    "    y_preda = model.predict(dtest, ntree_limit=model.best_ntree_limit)\n",
    "    y_preda_list.append(y_preda)\n",
    "y_preda = np.mean(y_preda_list, axis=0)\n",
    "y_pred = np.argmax(y_preda, axis=1)"
   ]
  },
  {
   "cell_type": "code",
   "execution_count": 19,
   "metadata": {},
   "outputs": [
    {
     "name": "stdout",
     "output_type": "stream",
     "text": [
      "Accuracy: 0.6030\n",
      "Recall:       0.3505\n",
      "Precision:  0.4294\n",
      "F1:             0.2999\n"
     ]
    }
   ],
   "source": [
    "print \"Accuracy: %.4f\" % accuracy_score(y_test, y_pred)\n",
    "print \"Recall:       %.4f\" % recall_score(y_test, y_pred, average=\"macro\")\n",
    "print \"Precision:  %.4f\" % precision_score(y_test, y_pred, average=\"macro\")\n",
    "print \"F1:             %.4f\" % f1_score(y_test, y_pred, average=\"macro\")"
   ]
  },
  {
   "cell_type": "code",
   "execution_count": 20,
   "metadata": {},
   "outputs": [
    {
     "data": {
      "image/png": "[encoded data removed]",
      "text/plain": [
       "<Figure size 432x288 with 2 Axes>"
      ]
     },
     "metadata": {},
     "output_type": "display_data"
    }
   ],
   "source": [
    "def plot_confusion_matrix(cm, classes,\n",
    "                          normalize=False,\n",
    "                          title='Confusion matrix',\n",
    "                          cmap=plt.cm.Blues):\n",
    "    \"\"\"\n",
    "    This function prints and plots the confusion matrix.\n",
    "    Normalization can be applied by setting `normalize=True`.\n",
    "    cf. http://scikit-learn.org/stable/auto_examples/model_selection/plot_confusion_matrix.html\n",
    "    \"\"\"\n",
    "    if normalize:\n",
    "        cm = cm.astype('float') / cm.sum(axis=1)[:, np.newaxis]\n",
    "    plt.imshow(cm, interpolation='nearest', cmap=cmap)\n",
    "    plt.title(title)\n",
    "    plt.colorbar()\n",
    "    tick_marks = np.arange(len(classes))\n",
    "    plt.xticks(tick_marks, classes, rotation=45)\n",
    "    plt.yticks(tick_marks, classes)\n",
    "\n",
    "    fmt = '.2f' if normalize else 'd'\n",
    "    thresh = cm.max() / 2.\n",
    "    for i, j in itertools.product(range(cm.shape[0]), range(cm.shape[1])):\n",
    "        plt.text(j, i, format(cm[i, j], fmt),\n",
    "                 horizontalalignment=\"center\",\n",
    "                 color=\"white\" if cm[i, j] > thresh else \"black\")\n",
    "\n",
    "    plt.tight_layout()\n",
    "    plt.ylabel('True label')\n",
    "    plt.xlabel('Predicted label')\n",
    "\n",
    "# Compute confusion matrix\n",
    "cnf_matrix = confusion_matrix(y_test, y_pred)\n",
    "np.set_printoptions(precision=2)\n",
    "\n",
    "# Plot non-normalized confusion matrix\n",
    "plt.figure()\n",
    "plot_confusion_matrix(cnf_matrix, normalize=True, classes=ACTION_NAMES, title='Confusion matrix')"
   ]
  },
  {
   "cell_type": "markdown",
   "metadata": {},
   "source": [
    "- ほとんどの場合は何もしないを最良と判断している．\n",
    "- longやshort時にdo nothingとして判断してくれるならまだしも，逆と判断してしまっているので，もっと性能改善が必要そう"
   ]
  },
  {
   "cell_type": "markdown",
   "metadata": {},
   "source": [
    "## 収益計算"
   ]
  },
  {
   "cell_type": "code",
   "execution_count": 21,
   "metadata": {},
   "outputs": [],
   "source": [
    "test_df[\"pred\"] = y_pred\n",
    "test_df[\"confidence\"] = np.max(y_preda, axis=1) # 自信度"
   ]
  },
  {
   "cell_type": "markdown",
   "metadata": {},
   "source": [
    "#### 自信度が正答率に影響するか？\n",
    "\n",
    "- 何もしない以外の判断を行った場合は自信の高い場合のみ，お金を掛けたほうが勝率が高そうに考えられるので，調査してみる．"
   ]
  },
  {
   "cell_type": "code",
   "execution_count": 22,
   "metadata": {},
   "outputs": [
    {
     "data": {
      "image/png": "[encoded data removed]",
      "text/plain": [
       "<Figure size 432x288 with 1 Axes>"
      ]
     },
     "metadata": {},
     "output_type": "display_data"
    }
   ],
   "source": [
    "_df = test_df[test_df[\"pred\"] != ACTION_DO_NOTHING] # 何もしない以外の判断を行ったデータ\n",
    "ax = _df[\"confidence\"].hist(bins=100, alpha=0.5, normed=True, label=\"all\"); # 全部\n",
    "ax = _df[_df[\"pred\"] == _df[\"target\"]][\"confidence\"].hist(bins=100, ax=ax, alpha=0.5, normed=True, label=\"passed\"); # 正解のみ\n",
    "ax = _df[_df[\"pred\"] == 3-_df[\"target\"]][\"confidence\"].hist(bins=100, ax=ax, alpha=0.5, normed=True, label=\"failed\"); # 逆に予想\n",
    "ax.legend();"
   ]
  },
  {
   "cell_type": "markdown",
   "metadata": {},
   "source": [
    "- 全部の場合と正解のみ抽出した場合で，ほとんど同じ分布になっており，自信度の高さが全く意味をなしてない．\n",
    "- つまり，しきい値を設定して，自信の高い場合のみ掛けても，さほど期待値に違いはないことが分かる．\n",
    "- 切ないので，一応自信のある上位9割の判断のみでなんとかしてみる．"
   ]
  },
  {
   "cell_type": "code",
   "execution_count": 23,
   "metadata": {},
   "outputs": [
    {
     "name": "stdout",
     "output_type": "stream",
     "text": [
      "Threshold of confidence: 0.371\n"
     ]
    }
   ],
   "source": [
    "def adjust_action_type(x, charge=0.003, confidence_lower=0.4):\n",
    "    \"\"\"\n",
    "    手数料や自信度で次の行動を補正する．\n",
    "    現時点では，予測に自信がある場合のみ買うよう補正しているだけ．\n",
    "    他にも現在の投資額や予算などから行動を変化させるために使う．\n",
    "    \"\"\"\n",
    "    if (x[\"pred\"] == ACTION_DO_NOTHING) or (x[\"confidence\"] < confidence_lower):\n",
    "        return ACTION_DO_NOTHING\n",
    "    if x[\"pred\"] == ACTION_LONG: # 買って売る\n",
    "        return ACTION_LONG\n",
    "    if x[\"pred\"] == ACTION_SHORT: # 売って買う\n",
    "        return ACTION_SHORT\n",
    "\n",
    "def calc_gain(x, charge=0.003):\n",
    "    \"\"\"\n",
    "    実際に取った行動でのリターン算出\n",
    "    \"\"\"\n",
    "    if x[\"action_type\"] == ACTION_DO_NOTHING:\n",
    "        return 0\n",
    "    if x[\"action_type\"] == ACTION_LONG: # 買って売る\n",
    "        return x[\"target_rate_bid\"] - x[\"rate_ask\"] - 2*charge\n",
    "    if x[\"action_type\"] == ACTION_SHORT: # 売って買う\n",
    "        return x[\"rate_bid\"] - x[\"target_rate_ask\"] - 2*charge\n",
    "\n",
    "confidence = test_df[test_df[\"pred\"] != ACTION_DO_NOTHING][\"confidence\"].values\n",
    "confidence_lower = sorted(confidence)[int(len(confidence) * 0.9)]\n",
    "print \"Threshold of confidence: %.3f\" % confidence_lower\n",
    "    \n",
    "test_df[\"action_type\"] = test_df.apply(lambda x: adjust_action_type(x, confidence_lower=confidence_lower), axis=1) # 実際の行動    \n",
    "test_df[\"gain\"] = test_df.apply(calc_gain, axis=1) # リターン"
   ]
  },
  {
   "cell_type": "code",
   "execution_count": 24,
   "metadata": {},
   "outputs": [
    {
     "name": "stdout",
     "output_type": "stream",
     "text": [
      "収益の期待値(1ドルあたり): 0.0000円\n",
      "収益の合算値: 2.6805円\n",
      "買った回数: 977\n",
      "売った回数: 234\n",
      "正解した回数: 487\n",
      "逆に掛けた回数: 362\n",
      "何もしなかった回数: 226640\n"
     ]
    }
   ],
   "source": [
    "print \"収益の期待値(1ドルあたり): %.4f円\" % test_df[\"gain\"].mean()\n",
    "print \"収益の合算値: %.4f円\" % test_df[\"gain\"].sum()\n",
    "print \"買った回数: %d\" % (test_df[\"action_type\"] == ACTION_LONG).sum()\n",
    "print \"売った回数: %d\" % (test_df[\"action_type\"] == ACTION_SHORT).sum()\n",
    "print \"正解した回数: %d\" % ((test_df[\"action_type\"] != ACTION_DO_NOTHING) & (test_df[\"action_type\"] == test_df[\"target\"])).sum()\n",
    "print \"逆に掛けた回数: %d\" % (test_df[\"action_type\"] == 3-test_df[\"target\"]).sum()\n",
    "print \"何もしなかった回数: %d\" % (test_df[\"action_type\"] == ACTION_DO_NOTHING).sum()"
   ]
  },
  {
   "cell_type": "markdown",
   "metadata": {},
   "source": [
    "## まとめ\n",
    "\n",
    "- XGBoostで15分後の為替変動を予測してみた．(まだまだロジックの改善が必要)\n",
    "- 手数料が0.3銭/ドルとしたところ，収益の期待値は，ほぼゼロとなる．(´・ω・｀)\n",
    "- 損失関数としては，逆に張ってしまった場合はかなり大きめのペナルティを加えるようにしたほうが良さそう．"
   ]
  },
  {
   "cell_type": "markdown",
   "metadata": {},
   "source": [
    "## References\n",
    "\n",
    "> [1]. [Recruit Restaurant Visitor Forecasting](https://www.kaggle.com/c/recruit-restaurant-visitor-forecasting), kaggle, 2017.\n",
    "\n",
    "> [2]. [GAIN Capital](http://ratedata.gaincapital.com/)\n",
    "\n",
    "> [3]. [Confusion matrix](http://scikit-learn.org/stable/auto_examples/model_selection/plot_confusion_matrix.html), scikit-learn."
   ]
  }
 ],
 "metadata": {
  "kernelspec": {
   "display_name": "Python 2",
   "language": "python",
   "name": "python2"
  },
  "language_info": {
   "codemirror_mode": {
    "name": "ipython",
    "version": 2
   },
   "file_extension": ".py",
   "mimetype": "text/x-python",
   "name": "python",
   "nbconvert_exporter": "python",
   "pygments_lexer": "ipython2",
   "version": "2.7.14"
  }
 },
 "nbformat": 4,
 "nbformat_minor": 2
}
