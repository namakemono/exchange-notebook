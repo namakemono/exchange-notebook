{
 "cells": [
  {
   "cell_type": "markdown",
   "metadata": {},
   "source": [
    "## 摘要\n",
    "\n",
    "- 30分後の為替の変動を予測してみる\n",
    "\n",
    "### データセット\n",
    "\n",
    "- [GAIN Capital](http://ratedata.gaincapital.com/)\n",
    "- 通貨ペア: USD/JPY\n",
    "- 期間: 2018-03-04 〜 2018-04-19"
   ]
  },
  {
   "cell_type": "code",
   "execution_count": 1,
   "metadata": {},
   "outputs": [],
   "source": [
    "import glob\n",
    "import pandas as pd\n",
    "import numpy as np\n",
    "import matplotlib.pyplot as plt\n",
    "%matplotlib inline\n",
    "import xgboost as xgb\n",
    "from sklearn.metrics import accuracy_score, recall_score, precision_score, f1_score"
   ]
  },
  {
   "cell_type": "code",
   "execution_count": 2,
   "metadata": {},
   "outputs": [],
   "source": [
    "df = pd.concat([pd.read_csv(fpath, parse_dates=[\"RateDateTime\"]) for fpath in sorted(glob.glob(\"*.csv\"))])"
   ]
  },
  {
   "cell_type": "code",
   "execution_count": 3,
   "metadata": {},
   "outputs": [],
   "source": [
    "df = df.sort_values(by=\"RateDateTime\").reset_index(drop=True)"
   ]
  },
  {
   "cell_type": "code",
   "execution_count": 4,
   "metadata": {},
   "outputs": [
    {
     "data": {
      "text/html": [
       "<div>\n",
       "<style scoped>\n",
       "    .dataframe tbody tr th:only-of-type {\n",
       "        vertical-align: middle;\n",
       "    }\n",
       "\n",
       "    .dataframe tbody tr th {\n",
       "        vertical-align: top;\n",
       "    }\n",
       "\n",
       "    .dataframe thead th {\n",
       "        text-align: right;\n",
       "    }\n",
       "</style>\n",
       "<table border=\"1\" class=\"dataframe\">\n",
       "  <thead>\n",
       "    <tr style=\"text-align: right;\">\n",
       "      <th></th>\n",
       "      <th>lTid</th>\n",
       "      <th>cDealable</th>\n",
       "      <th>CurrencyPair</th>\n",
       "      <th>RateDateTime</th>\n",
       "      <th>RateBid</th>\n",
       "      <th>RateAsk</th>\n",
       "    </tr>\n",
       "  </thead>\n",
       "  <tbody>\n",
       "    <tr>\n",
       "      <th>0</th>\n",
       "      <td>6474889452</td>\n",
       "      <td>D</td>\n",
       "      <td>USD/JPY</td>\n",
       "      <td>2018-03-04 17:00:09.560</td>\n",
       "      <td>105.419</td>\n",
       "      <td>105.489</td>\n",
       "    </tr>\n",
       "    <tr>\n",
       "      <th>1</th>\n",
       "      <td>6474889479</td>\n",
       "      <td>D</td>\n",
       "      <td>USD/JPY</td>\n",
       "      <td>2018-03-04 17:00:17.810</td>\n",
       "      <td>105.462</td>\n",
       "      <td>105.532</td>\n",
       "    </tr>\n",
       "    <tr>\n",
       "      <th>2</th>\n",
       "      <td>6474889521</td>\n",
       "      <td>D</td>\n",
       "      <td>USD/JPY</td>\n",
       "      <td>2018-03-04 17:00:26.060</td>\n",
       "      <td>105.458</td>\n",
       "      <td>105.528</td>\n",
       "    </tr>\n",
       "    <tr>\n",
       "      <th>3</th>\n",
       "      <td>6474889554</td>\n",
       "      <td>D</td>\n",
       "      <td>USD/JPY</td>\n",
       "      <td>2018-03-04 17:00:35.310</td>\n",
       "      <td>105.476</td>\n",
       "      <td>105.546</td>\n",
       "    </tr>\n",
       "    <tr>\n",
       "      <th>4</th>\n",
       "      <td>6474889598</td>\n",
       "      <td>D</td>\n",
       "      <td>USD/JPY</td>\n",
       "      <td>2018-03-04 17:00:38.310</td>\n",
       "      <td>105.461</td>\n",
       "      <td>105.531</td>\n",
       "    </tr>\n",
       "  </tbody>\n",
       "</table>\n",
       "</div>"
      ],
      "text/plain": [
       "         lTid cDealable CurrencyPair            RateDateTime  RateBid  RateAsk\n",
       "0  6474889452         D      USD/JPY 2018-03-04 17:00:09.560  105.419  105.489\n",
       "1  6474889479         D      USD/JPY 2018-03-04 17:00:17.810  105.462  105.532\n",
       "2  6474889521         D      USD/JPY 2018-03-04 17:00:26.060  105.458  105.528\n",
       "3  6474889554         D      USD/JPY 2018-03-04 17:00:35.310  105.476  105.546\n",
       "4  6474889598         D      USD/JPY 2018-03-04 17:00:38.310  105.461  105.531"
      ]
     },
     "execution_count": 4,
     "metadata": {},
     "output_type": "execute_result"
    }
   ],
   "source": [
    "df.head()"
   ]
  },
  {
   "cell_type": "markdown",
   "metadata": {},
   "source": [
    "### 予測データの作成\n",
    "\n",
    "- 2,3日後の為替の変動を予測し，何もしない, 買い， 売りを決定する．\n",
    "- 0.01円(0.005%の手数料)を取られる\n",
    "\n",
    "| 行動        | 値 | 説明                                      |\n",
    "| ------------ | --- | ------------------------------------------- |\n",
    "| 買い        | 1  |  現在の買値(Ask) < 将来の売値(Bid) |\n",
    "| 空売り      | -1 |  現在の売値(Bid) > 将来の買値(Ask) |\n",
    "| 何もしない | 0  |  それ以外 |    "
   ]
  },
  {
   "cell_type": "code",
   "execution_count": 5,
   "metadata": {},
   "outputs": [],
   "source": [
    "T = 3*(10**3) # 約30分後\n",
    "margin = 0.03 # 3銭(0.015%前後)の手数料\n",
    "df[\"TargetRateBid\"] = df[\"RateBid\"].shift(-T)\n",
    "df[\"TargetRateAsk\"] = df[\"RateAsk\"].shift(-T)\n",
    "df[\"TargetRateDateTime\"] = df[\"RateDateTime\"].shift(-T)\n",
    "df[\"Target\"] = 0 # 何もしない\n",
    "df.loc[(df[\"TargetRateAsk\"] + margin < df[\"RateBid\"]), \"Target\"] = -1 # 売りのタイミング\n",
    "df.loc[(df[\"TargetRateBid\"] > df[\"RateAsk\"] + margin), \"Target\"] = 1 # 買いのタイミング"
   ]
  },
  {
   "cell_type": "code",
   "execution_count": 6,
   "metadata": {},
   "outputs": [
    {
     "data": {
      "text/html": [
       "<div>\n",
       "<style scoped>\n",
       "    .dataframe tbody tr th:only-of-type {\n",
       "        vertical-align: middle;\n",
       "    }\n",
       "\n",
       "    .dataframe tbody tr th {\n",
       "        vertical-align: top;\n",
       "    }\n",
       "\n",
       "    .dataframe thead th {\n",
       "        text-align: right;\n",
       "    }\n",
       "</style>\n",
       "<table border=\"1\" class=\"dataframe\">\n",
       "  <thead>\n",
       "    <tr style=\"text-align: right;\">\n",
       "      <th></th>\n",
       "      <th>lTid</th>\n",
       "      <th>cDealable</th>\n",
       "      <th>CurrencyPair</th>\n",
       "      <th>RateDateTime</th>\n",
       "      <th>RateBid</th>\n",
       "      <th>RateAsk</th>\n",
       "      <th>TargetRateBid</th>\n",
       "      <th>TargetRateAsk</th>\n",
       "      <th>TargetRateDateTime</th>\n",
       "      <th>Target</th>\n",
       "    </tr>\n",
       "  </thead>\n",
       "  <tbody>\n",
       "    <tr>\n",
       "      <th>0</th>\n",
       "      <td>6474889452</td>\n",
       "      <td>D</td>\n",
       "      <td>USD/JPY</td>\n",
       "      <td>2018-03-04 17:00:09.560</td>\n",
       "      <td>105.419</td>\n",
       "      <td>105.489</td>\n",
       "      <td>105.618</td>\n",
       "      <td>105.644</td>\n",
       "      <td>2018-03-04 17:46:37.553</td>\n",
       "      <td>1</td>\n",
       "    </tr>\n",
       "    <tr>\n",
       "      <th>1</th>\n",
       "      <td>6474889479</td>\n",
       "      <td>D</td>\n",
       "      <td>USD/JPY</td>\n",
       "      <td>2018-03-04 17:00:17.810</td>\n",
       "      <td>105.462</td>\n",
       "      <td>105.532</td>\n",
       "      <td>105.621</td>\n",
       "      <td>105.647</td>\n",
       "      <td>2018-03-04 17:46:37.803</td>\n",
       "      <td>1</td>\n",
       "    </tr>\n",
       "    <tr>\n",
       "      <th>2</th>\n",
       "      <td>6474889521</td>\n",
       "      <td>D</td>\n",
       "      <td>USD/JPY</td>\n",
       "      <td>2018-03-04 17:00:26.060</td>\n",
       "      <td>105.458</td>\n",
       "      <td>105.528</td>\n",
       "      <td>105.623</td>\n",
       "      <td>105.648</td>\n",
       "      <td>2018-03-04 17:46:38.053</td>\n",
       "      <td>1</td>\n",
       "    </tr>\n",
       "    <tr>\n",
       "      <th>3</th>\n",
       "      <td>6474889554</td>\n",
       "      <td>D</td>\n",
       "      <td>USD/JPY</td>\n",
       "      <td>2018-03-04 17:00:35.310</td>\n",
       "      <td>105.476</td>\n",
       "      <td>105.546</td>\n",
       "      <td>105.619</td>\n",
       "      <td>105.645</td>\n",
       "      <td>2018-03-04 17:46:38.303</td>\n",
       "      <td>1</td>\n",
       "    </tr>\n",
       "    <tr>\n",
       "      <th>4</th>\n",
       "      <td>6474889598</td>\n",
       "      <td>D</td>\n",
       "      <td>USD/JPY</td>\n",
       "      <td>2018-03-04 17:00:38.310</td>\n",
       "      <td>105.461</td>\n",
       "      <td>105.531</td>\n",
       "      <td>105.639</td>\n",
       "      <td>105.647</td>\n",
       "      <td>2018-03-04 17:46:38.553</td>\n",
       "      <td>1</td>\n",
       "    </tr>\n",
       "  </tbody>\n",
       "</table>\n",
       "</div>"
      ],
      "text/plain": [
       "         lTid cDealable CurrencyPair            RateDateTime  RateBid  \\\n",
       "0  6474889452         D      USD/JPY 2018-03-04 17:00:09.560  105.419   \n",
       "1  6474889479         D      USD/JPY 2018-03-04 17:00:17.810  105.462   \n",
       "2  6474889521         D      USD/JPY 2018-03-04 17:00:26.060  105.458   \n",
       "3  6474889554         D      USD/JPY 2018-03-04 17:00:35.310  105.476   \n",
       "4  6474889598         D      USD/JPY 2018-03-04 17:00:38.310  105.461   \n",
       "\n",
       "   RateAsk  TargetRateBid  TargetRateAsk      TargetRateDateTime  Target  \n",
       "0  105.489        105.618        105.644 2018-03-04 17:46:37.553       1  \n",
       "1  105.532        105.621        105.647 2018-03-04 17:46:37.803       1  \n",
       "2  105.528        105.623        105.648 2018-03-04 17:46:38.053       1  \n",
       "3  105.546        105.619        105.645 2018-03-04 17:46:38.303       1  \n",
       "4  105.531        105.639        105.647 2018-03-04 17:46:38.553       1  "
      ]
     },
     "execution_count": 6,
     "metadata": {},
     "output_type": "execute_result"
    }
   ],
   "source": [
    "df.head()"
   ]
  },
  {
   "cell_type": "code",
   "execution_count": 7,
   "metadata": {},
   "outputs": [
    {
     "name": "stderr",
     "output_type": "stream",
     "text": [
      "/usr/local/lib/python2.7/dist-packages/numpy/lib/function_base.py:4033: RuntimeWarning: Invalid value encountered in median\n",
      "  r = func(a, **kwargs)\n"
     ]
    }
   ],
   "source": [
    "df[\"Dow\"] = df[\"RateDateTime\"].dt.dayofweek\n",
    "df[\"Hour\"] = df[\"RateDateTime\"].dt.hour\n",
    "df[\"Diff\"] = df[\"RateAsk\"] - df[\"RateBid\"]\n",
    "# フィボナッチすごい, cf. https://www.kaggle.com/safavieh/median-estimation-by-fibonacci-et-al-lb-44-9\n",
    "nums = [2, 3, 5, 8, 13, 21, 34]\n",
    "cols = []\n",
    "for num in nums:\n",
    "    interval = 10 * num\n",
    "    col = \"RateBidMedian_%05d\" % interval\n",
    "    cols.append(col)\n",
    "    df[col] = df[\"RateBid\"].rolling(window=interval).median()\n",
    "df[\"RateBidMedian\"] = df[cols].apply(np.median, axis=1).median()\n",
    "df[\"RateBid/RateBidMedian\"] = df[\"RateBid\"] / df[\"RateBidMedian\"]"
   ]
  },
  {
   "cell_type": "code",
   "execution_count": 8,
   "metadata": {},
   "outputs": [],
   "source": [
    "df.dropna(inplace=True)"
   ]
  },
  {
   "cell_type": "code",
   "execution_count": 9,
   "metadata": {},
   "outputs": [
    {
     "data": {
      "text/plain": [
       "<matplotlib.axes._subplots.AxesSubplot at 0x7f9c16477c10>"
      ]
     },
     "execution_count": 9,
     "metadata": {},
     "output_type": "execute_result"
    },
    {
     "data": {
      "image/png": "[encoded data removed]",
      "text/plain": [
       "<Figure size 432x288 with 1 Axes>"
      ]
     },
     "metadata": {},
     "output_type": "display_data"
    }
   ],
   "source": [
    "df.set_index(\"RateDateTime\")[[\"RateBid\", \"RateAsk\"]].plot()"
   ]
  },
  {
   "cell_type": "code",
   "execution_count": 10,
   "metadata": {},
   "outputs": [],
   "source": [
    "use_columns = [u\"Diff\", u\"Dow\", u\"Hour\", \"RateBid/RateBidMedian\"]"
   ]
  },
  {
   "cell_type": "code",
   "execution_count": 11,
   "metadata": {},
   "outputs": [],
   "source": [
    "num_train = int(len(df) * 0.7)\n",
    "train_df = df[:num_train]\n",
    "test_df = df[num_train:]"
   ]
  },
  {
   "cell_type": "code",
   "execution_count": 12,
   "metadata": {},
   "outputs": [
    {
     "data": {
      "text/plain": [
       "(Timestamp('2018-03-04 17:08:00.057000'),\n",
       " Timestamp('2018-04-04 16:58:30.197000'))"
      ]
     },
     "execution_count": 12,
     "metadata": {},
     "output_type": "execute_result"
    }
   ],
   "source": [
    "train_df[\"RateDateTime\"].min(), train_df[\"RateDateTime\"].max()"
   ]
  },
  {
   "cell_type": "code",
   "execution_count": 13,
   "metadata": {},
   "outputs": [
    {
     "data": {
      "text/plain": [
       "(Timestamp('2018-04-04 16:58:47.697000'),\n",
       " Timestamp('2018-04-20 15:00:02.903000'))"
      ]
     },
     "execution_count": 13,
     "metadata": {},
     "output_type": "execute_result"
    }
   ],
   "source": [
    "test_df[\"RateDateTime\"].min(), test_df[\"RateDateTime\"].max()"
   ]
  },
  {
   "cell_type": "code",
   "execution_count": 14,
   "metadata": {},
   "outputs": [
    {
     "data": {
      "image/png": "[encoded data removed]",
      "text/plain": [
       "<Figure size 864x288 with 2 Axes>"
      ]
     },
     "metadata": {},
     "output_type": "display_data"
    }
   ],
   "source": [
    "fig, axes = plt.subplots(figsize=(12, 4), nrows=1, ncols=2)\n",
    "train_df[\"Target\"].value_counts(1).plot(kind=\"bar\", ax=axes[0])\n",
    "test_df[\"Target\"].value_counts(1).plot(kind=\"bar\", ax=axes[1]);"
   ]
  },
  {
   "cell_type": "code",
   "execution_count": 15,
   "metadata": {},
   "outputs": [],
   "source": [
    "X_train = train_df[use_columns].values\n",
    "y_train = train_df[\"Target\"].values\n",
    "X_test = test_df[use_columns].values\n",
    "y_test = test_df[\"Target\"].values"
   ]
  },
  {
   "cell_type": "code",
   "execution_count": 16,
   "metadata": {},
   "outputs": [
    {
     "data": {
      "text/plain": [
       "XGBClassifier(base_score=0.5, booster='gbtree', colsample_bylevel=1,\n",
       "       colsample_bytree=1, gamma=0, learning_rate=0.1, max_delta_step=0,\n",
       "       max_depth=3, min_child_weight=1, missing=None, n_estimators=100,\n",
       "       n_jobs=1, nthread=None, objective='multi:softprob', random_state=0,\n",
       "       reg_alpha=0, reg_lambda=1, scale_pos_weight=1, seed=None,\n",
       "       silent=True, subsample=1)"
      ]
     },
     "execution_count": 16,
     "metadata": {},
     "output_type": "execute_result"
    }
   ],
   "source": [
    "clf = xgb.XGBClassifier()\n",
    "clf.fit(X_train, y_train)"
   ]
  },
  {
   "cell_type": "code",
   "execution_count": 17,
   "metadata": {},
   "outputs": [
    {
     "name": "stderr",
     "output_type": "stream",
     "text": [
      "/usr/local/lib/python2.7/dist-packages/sklearn/preprocessing/label.py:151: DeprecationWarning: The truth value of an empty array is ambiguous. Returning False, but in future this will result in an error. Use `array.size > 0` to check that an array is not empty.\n",
      "  if diff:\n"
     ]
    }
   ],
   "source": [
    "y_pred = clf.predict(X_test)"
   ]
  },
  {
   "cell_type": "code",
   "execution_count": 18,
   "metadata": {},
   "outputs": [
    {
     "name": "stdout",
     "output_type": "stream",
     "text": [
      "Accuracy: 0.3420\n",
      "Recall:       0.3600\n",
      "Precision:  0.3767\n",
      "F1:             0.2929\n"
     ]
    }
   ],
   "source": [
    "print \"Accuracy: %.4f\" % accuracy_score(y_test, y_pred)\n",
    "print \"Recall:       %.4f\" % recall_score(y_test, y_pred, average=\"macro\")\n",
    "print \"Precision:  %.4f\" % precision_score(y_test, y_pred, average=\"macro\")\n",
    "print \"F1:             %.4f\" % f1_score(y_test, y_pred, average=\"macro\")"
   ]
  },
  {
   "cell_type": "markdown",
   "metadata": {},
   "source": [
    "## まとめ\n",
    "\n",
    "- XGBoostで直近の為替変動を予測してみたところ，正答率は34%とじゃんけんと変わらない．\n",
    "- また，3月末に傾向が変わってそうなので，こういった変化点を検出して対策を取らないと痛い目に合いそう．"
   ]
  },
  {
   "cell_type": "markdown",
   "metadata": {},
   "source": [
    "## References\n",
    "\n",
    "> [1]. [Recruit Restaurant Visitor Forecasting](https://www.kaggle.com/c/recruit-restaurant-visitor-forecasting), kaggle, 2017.\n",
    "\n",
    "> [2]. [GAIN Capital](http://ratedata.gaincapital.com/)"
   ]
  }
 ],
 "metadata": {
  "kernelspec": {
   "display_name": "Python 2",
   "language": "python",
   "name": "python2"
  },
  "language_info": {
   "codemirror_mode": {
    "name": "ipython",
    "version": 2
   },
   "file_extension": ".py",
   "mimetype": "text/x-python",
   "name": "python",
   "nbconvert_exporter": "python",
   "pygments_lexer": "ipython2",
   "version": "2.7.14"
  }
 },
 "nbformat": 4,
 "nbformat_minor": 2
}
